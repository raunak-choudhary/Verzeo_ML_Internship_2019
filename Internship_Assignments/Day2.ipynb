{
 "cells": [
  {
   "cell_type": "code",
   "execution_count": 10,
   "metadata": {},
   "outputs": [
    {
     "name": "stdout",
     "output_type": "stream",
     "text": [
      "1\n",
      "3\n",
      "5\n",
      "1\n",
      "2\n",
      "3\n",
      "4\n",
      "5\n"
     ]
    }
   ],
   "source": [
    "var=[1,2,3,4,5]\n",
    "for i in range(0,5,2):\n",
    "    print(var[i])\n",
    "for i in var:\n",
    "    print(i)"
   ]
  },
  {
   "cell_type": "code",
   "execution_count": 1,
   "metadata": {},
   "outputs": [
    {
     "name": "stdout",
     "output_type": "stream",
     "text": [
      "Ganpat\n",
      "gapu8540@gmail.com\n",
      "87394327476\n"
     ]
    }
   ],
   "source": [
    "d={'name':'Ganpat','email':'gapu8540@gmail.com','phone':'87394327476'}\n",
    "way=input()\n",
    "if (way==d['name']):\n",
    "    print(d['email'])\n",
    "    print(d['phone'])\n",
    "elif(way==d['email']):\n",
    "    print(d['name'])\n",
    "    print(d['phone'])\n",
    "elif(way==d['phone']):\n",
    "    print(d['name'])\n",
    "    print(d['email'])\n",
    "else:\n",
    "    print(\"error\")"
   ]
  },
  {
   "cell_type": "code",
   "execution_count": 31,
   "metadata": {},
   "outputs": [
    {
     "name": "stdout",
     "output_type": "stream",
     "text": [
      "GP\n",
      "[gapu8540@gmail.com,9672836724]\n"
     ]
    }
   ],
   "source": [
    "d1={'GP':'[gapu8540@gmail.com,9672836724]','RC':'[rc@gmail.com,9672835724]','DP':'[dp@gmail.com,9679836724]','TP':'[tp8540@gmail.com,9671836724]'}\n",
    "l1=list(d1.keys())\n",
    "l1\n",
    "print(l1[0])\n",
    "print(d1['GP'])"
   ]
  },
  {
   "cell_type": "code",
   "execution_count": 19,
   "metadata": {
    "scrolled": true
   },
   "outputs": [
    {
     "name": "stdout",
     "output_type": "stream",
     "text": [
      "field: email\n",
      "Enter the email:rc@gmail.com\n",
      "Name: RC\n",
      "Mail: rc@gmail.com\n",
      "Phone 9672835724\n"
     ]
    }
   ],
   "source": [
    "d1={'GP':['gapu8540@gmail.com',9672836724],'RC':['rc@gmail.com',9672835724],'DP':['dp@gmail.com',9679836724],'TP':['tp8540@gmail.com',9671836724]}\n",
    "var=input('field: ')\n",
    "if var=='name':\n",
    "    x=input('Enter the name:')\n",
    "    for k,v in d1.items():\n",
    "        if k==x :\n",
    "            print('Name:', k)\n",
    "            print('Mail:', v[0])\n",
    "            print('Phone', v[1])\n",
    "            break\n",
    "elif var=='email':\n",
    "    x=input('Enter the email:')\n",
    "    for k,v in d1.items():\n",
    "        if v[0]==x :\n",
    "            print('Name:', k)\n",
    "            print('Mail:', v[0])\n",
    "            print('Phone', v[1])\n",
    "            break  \n",
    "elif var=='phone':\n",
    "    x=int(input('Enter the phone:'))\n",
    "    for k,v in d1.items():\n",
    "        if v[1]==x :\n",
    "            print('Name:', k)\n",
    "            print('Mail:', v[0])\n",
    "            print('Phone', v[1])\n",
    "            break  \n",
    "else:\n",
    "    print(\"Invalid\")\n",
    "    \n"
   ]
  },
  {
   "cell_type": "code",
   "execution_count": 31,
   "metadata": {},
   "outputs": [
    {
     "ename": "NameError",
     "evalue": "name 'b' is not defined",
     "output_type": "error",
     "traceback": [
      "\u001b[1;31m---------------------------------------------------------------------------\u001b[0m",
      "\u001b[1;31mNameError\u001b[0m                                 Traceback (most recent call last)",
      "\u001b[1;32m<ipython-input-31-2b65aa187793>\u001b[0m in \u001b[0;36m<module>\u001b[1;34m\u001b[0m\n\u001b[0;32m      3\u001b[0m \u001b[1;32mdef\u001b[0m \u001b[0mdemo\u001b[0m\u001b[1;33m(\u001b[0m\u001b[0mb\u001b[0m\u001b[1;33m)\u001b[0m\u001b[1;33m:\u001b[0m\u001b[1;33m\u001b[0m\u001b[1;33m\u001b[0m\u001b[0m\n\u001b[0;32m      4\u001b[0m     \u001b[1;32mpass\u001b[0m\u001b[1;33m\u001b[0m\u001b[1;33m\u001b[0m\u001b[0m\n\u001b[1;32m----> 5\u001b[1;33m \u001b[0mdemo\u001b[0m\u001b[1;33m(\u001b[0m\u001b[0mb\u001b[0m\u001b[1;33m)\u001b[0m\u001b[1;33m\u001b[0m\u001b[1;33m\u001b[0m\u001b[0m\n\u001b[0m",
      "\u001b[1;31mNameError\u001b[0m: name 'b' is not defined"
     ]
    }
   ],
   "source": [
    "def demo():\n",
    "    pass\n",
    "def demo(b):\n",
    "    pass\n",
    "demo(b)"
   ]
  },
  {
   "cell_type": "code",
   "execution_count": 40,
   "metadata": {},
   "outputs": [
    {
     "name": "stdout",
     "output_type": "stream",
     "text": [
      "Enter 1:SUM 2:SUB 3:MUL->3\n",
      "20\n"
     ]
    }
   ],
   "source": [
    "a=10\n",
    "b=2\n",
    "c=0\n",
    "def add():\n",
    "    c=a+b\n",
    "    print(c)\n",
    "def sub():\n",
    "    c=a-b\n",
    "    print(c)\n",
    "def mul(): \n",
    "    c=a*b\n",
    "    print(c)\n",
    "ch=int(input('Enter 1:SUM 2:SUB 3:MUL->'))\n",
    "if(ch==1):\n",
    "         add()\n",
    "elif(ch==2):\n",
    "         sub()\n",
    "elif(ch==3):\n",
    "         mul()\n",
    "else:\n",
    "         print('Error')\n",
    " "
   ]
  },
  {
   "cell_type": "code",
   "execution_count": null,
   "metadata": {},
   "outputs": [],
   "source": [
    "# d1={'GP':['gapu8540@gmail.com',9672836724],'RC':['rc@gmail.com',9672835724],'DP':['dp@gmail.com',9679836724],'TP':['tp8540@gmail.com',9671836724]}\n",
    "var=input('field: ')\n",
    "def name():\n",
    "    if var=='name':\n",
    "        x=input('Enter the name:')\n",
    "        for k,v in d1.items():\n",
    "            if k==x :\n",
    "                print('Name:', k)\n",
    "                print('Mail:', v[0])\n",
    "                print('Phone', v[1])\n",
    "                break\n",
    "def email():\n",
    "    if var=='email':\n",
    "        x=input('Enter the email:')\n",
    "        for k,v in d1.items():\n",
    "            if v[0]==x :\n",
    "                print('Name:', k)\n",
    "                print('Mail:', v[0])\n",
    "                print('Phone', v[1])\n",
    "                break  \n",
    "def phone(): \n",
    "    if var=='phone':\n",
    "        x=int(input('Enter the phone:'))\n",
    "        for k,v in d1.items():\n",
    "            if v[1]==x :\n",
    "                print('Name:', k)\n",
    "                print('Mail:', v[0])\n",
    "                print('Phone', v[1])\n",
    "                break  \n",
    "if(var=='name'):\n",
    "         name()\n",
    "elif(var=='email'):\n",
    "         email()\n",
    "elif(var=='phone'):\n",
    "         phone()\n",
    "else:\n",
    "         print('Error')"
   ]
  },
  {
   "cell_type": "code",
   "execution_count": 72,
   "metadata": {},
   "outputs": [
    {
     "ename": "TypeError",
     "evalue": "m() takes 0 positional arguments but 1 was given",
     "output_type": "error",
     "traceback": [
      "\u001b[1;31m---------------------------------------------------------------------------\u001b[0m",
      "\u001b[1;31mTypeError\u001b[0m                                 Traceback (most recent call last)",
      "\u001b[1;32m<ipython-input-72-8def7607b2e1>\u001b[0m in \u001b[0;36m<module>\u001b[1;34m\u001b[0m\n\u001b[0;32m      3\u001b[0m         \u001b[1;32mpass\u001b[0m\u001b[1;33m\u001b[0m\u001b[1;33m\u001b[0m\u001b[0m\n\u001b[0;32m      4\u001b[0m \u001b[0mno\u001b[0m\u001b[1;33m=\u001b[0m\u001b[0mc\u001b[0m\u001b[1;33m(\u001b[0m\u001b[1;33m)\u001b[0m\u001b[1;33m\u001b[0m\u001b[1;33m\u001b[0m\u001b[0m\n\u001b[1;32m----> 5\u001b[1;33m \u001b[0mno\u001b[0m\u001b[1;33m.\u001b[0m\u001b[0mm\u001b[0m\u001b[1;33m(\u001b[0m\u001b[1;33m)\u001b[0m\u001b[1;33m\u001b[0m\u001b[1;33m\u001b[0m\u001b[0m\n\u001b[0m",
      "\u001b[1;31mTypeError\u001b[0m: m() takes 0 positional arguments but 1 was given"
     ]
    }
   ],
   "source": [
    "class c():\n",
    "    def m():\n",
    "        pass\n",
    "no=c()\n",
    "no.m()"
   ]
  },
  {
   "cell_type": "code",
   "execution_count": 88,
   "metadata": {},
   "outputs": [
    {
     "name": "stdout",
     "output_type": "stream",
     "text": [
      "5\n"
     ]
    }
   ],
   "source": [
    "class c():\n",
    "    var1=5\n",
    "    def m(a):\n",
    "        var1=2\n",
    "    def m1(a):\n",
    "        print(a.var1)\n",
    "rc=c()  \n",
    "rc.m1()"
   ]
  },
  {
   "cell_type": "code",
   "execution_count": 102,
   "metadata": {},
   "outputs": [
    {
     "ename": "TypeError",
     "evalue": "a() takes 0 positional arguments but 1 was given",
     "output_type": "error",
     "traceback": [
      "\u001b[1;31m---------------------------------------------------------------------------\u001b[0m",
      "\u001b[1;31mTypeError\u001b[0m                                 Traceback (most recent call last)",
      "\u001b[1;32m<ipython-input-102-441201f12a44>\u001b[0m in \u001b[0;36m<module>\u001b[1;34m\u001b[0m\n\u001b[0;32m      3\u001b[0m         \u001b[0mprint\u001b[0m\u001b[1;33m(\u001b[0m\u001b[1;34m'hello'\u001b[0m\u001b[1;33m)\u001b[0m\u001b[1;33m\u001b[0m\u001b[1;33m\u001b[0m\u001b[0m\n\u001b[0;32m      4\u001b[0m \u001b[0maa\u001b[0m\u001b[1;33m=\u001b[0m\u001b[0ma\u001b[0m\u001b[1;33m(\u001b[0m\u001b[1;33m)\u001b[0m\u001b[1;33m\u001b[0m\u001b[1;33m\u001b[0m\u001b[0m\n\u001b[1;32m----> 5\u001b[1;33m \u001b[0maa\u001b[0m\u001b[1;33m.\u001b[0m\u001b[0ma\u001b[0m\u001b[1;33m(\u001b[0m\u001b[1;33m)\u001b[0m\u001b[1;33m\u001b[0m\u001b[1;33m\u001b[0m\u001b[0m\n\u001b[0m",
      "\u001b[1;31mTypeError\u001b[0m: a() takes 0 positional arguments but 1 was given"
     ]
    }
   ],
   "source": [
    "class a():\n",
    "    def a():\n",
    "        print('hello')\n",
    "aa=a()\n",
    "aa.a()"
   ]
  },
  {
   "cell_type": "code",
   "execution_count": 100,
   "metadata": {},
   "outputs": [
    {
     "name": "stdout",
     "output_type": "stream",
     "text": [
      "hello\n"
     ]
    }
   ],
   "source": [
    "class a():\n",
    "    def __init__(aa):\n",
    "        print('hello')\n",
    "aa=a()"
   ]
  },
  {
   "cell_type": "code",
   "execution_count": null,
   "metadata": {},
   "outputs": [],
   "source": [
    "file=open(\"sample.txt\",\"w\")\n",
    "file.write(\"Hello It is a new file\")\n",
    "file=open(\"sample.txt\",\"t\")\n",
    "abc=file.text()\n",
    "print(abc)\n",
    "file.close()\n"
   ]
  },
  {
   "cell_type": "code",
   "execution_count": null,
   "metadata": {},
   "outputs": [],
   "source": [
    "file=open(\"sample.txt\",\"w\")\n",
    "file.write(\"Hello It is a new file\")\n",
    "file=open(\"sample.txt\",\"t\")\n",
    "abc=file.text()\n",
    "print(abc)\n",
    "file.close()\n"
   ]
  }
 ],
 "metadata": {
  "kernelspec": {
   "display_name": "Python 3",
   "language": "python",
   "name": "python3"
  },
  "language_info": {
   "codemirror_mode": {
    "name": "ipython",
    "version": 3
   },
   "file_extension": ".py",
   "mimetype": "text/x-python",
   "name": "python",
   "nbconvert_exporter": "python",
   "pygments_lexer": "ipython3",
   "version": "3.7.1"
  }
 },
 "nbformat": 4,
 "nbformat_minor": 2
}
