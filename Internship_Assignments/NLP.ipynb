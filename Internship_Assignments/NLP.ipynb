{
 "cells": [
  {
   "cell_type": "code",
   "execution_count": 1,
   "metadata": {},
   "outputs": [],
   "source": [
    "import nltk"
   ]
  },
  {
   "cell_type": "code",
   "execution_count": 2,
   "metadata": {},
   "outputs": [
    {
     "name": "stderr",
     "output_type": "stream",
     "text": [
      "[nltk_data] Downloading package stopwords to\n",
      "[nltk_data]     C:\\Users\\ganpa\\AppData\\Roaming\\nltk_data...\n",
      "[nltk_data]   Package stopwords is already up-to-date!\n"
     ]
    },
    {
     "data": {
      "text/plain": [
       "True"
      ]
     },
     "execution_count": 2,
     "metadata": {},
     "output_type": "execute_result"
    }
   ],
   "source": [
    "nltk.download('stopwords')"
   ]
  },
  {
   "cell_type": "code",
   "execution_count": 3,
   "metadata": {},
   "outputs": [
    {
     "name": "stderr",
     "output_type": "stream",
     "text": [
      "[nltk_data] Downloading package punkt to\n",
      "[nltk_data]     C:\\Users\\ganpa\\AppData\\Roaming\\nltk_data...\n",
      "[nltk_data]   Package punkt is already up-to-date!\n"
     ]
    },
    {
     "data": {
      "text/plain": [
       "True"
      ]
     },
     "execution_count": 3,
     "metadata": {},
     "output_type": "execute_result"
    }
   ],
   "source": [
    "nltk.download('punkt')"
   ]
  },
  {
   "cell_type": "code",
   "execution_count": 4,
   "metadata": {},
   "outputs": [
    {
     "name": "stderr",
     "output_type": "stream",
     "text": [
      "[nltk_data] Downloading package wordnet to\n",
      "[nltk_data]     C:\\Users\\ganpa\\AppData\\Roaming\\nltk_data...\n",
      "[nltk_data]   Unzipping corpora\\wordnet.zip.\n"
     ]
    },
    {
     "data": {
      "text/plain": [
       "True"
      ]
     },
     "execution_count": 4,
     "metadata": {},
     "output_type": "execute_result"
    }
   ],
   "source": [
    "nltk.download('wordnet')"
   ]
  },
  {
   "cell_type": "code",
   "execution_count": 5,
   "metadata": {},
   "outputs": [
    {
     "name": "stderr",
     "output_type": "stream",
     "text": [
      "[nltk_data] Downloading package treebank to\n",
      "[nltk_data]     C:\\Users\\ganpa\\AppData\\Roaming\\nltk_data...\n",
      "[nltk_data]   Unzipping corpora\\treebank.zip.\n"
     ]
    },
    {
     "data": {
      "text/plain": [
       "True"
      ]
     },
     "execution_count": 5,
     "metadata": {},
     "output_type": "execute_result"
    }
   ],
   "source": [
    "nltk.download('treebank')"
   ]
  },
  {
   "cell_type": "code",
   "execution_count": 6,
   "metadata": {},
   "outputs": [
    {
     "name": "stderr",
     "output_type": "stream",
     "text": [
      "[nltk_data] Downloading package averaged_perceptron_tagger to\n",
      "[nltk_data]     C:\\Users\\ganpa\\AppData\\Roaming\\nltk_data...\n",
      "[nltk_data]   Unzipping taggers\\averaged_perceptron_tagger.zip.\n"
     ]
    },
    {
     "data": {
      "text/plain": [
       "True"
      ]
     },
     "execution_count": 6,
     "metadata": {},
     "output_type": "execute_result"
    }
   ],
   "source": [
    "nltk.download('averaged_perceptron_tagger')"
   ]
  },
  {
   "cell_type": "code",
   "execution_count": 7,
   "metadata": {},
   "outputs": [
    {
     "name": "stderr",
     "output_type": "stream",
     "text": [
      "[nltk_data] Downloading package stopwords to\n",
      "[nltk_data]     C:\\Users\\ganpa\\AppData\\Roaming\\nltk_data...\n",
      "[nltk_data]   Package stopwords is already up-to-date!\n"
     ]
    },
    {
     "data": {
      "text/plain": [
       "True"
      ]
     },
     "execution_count": 7,
     "metadata": {},
     "output_type": "execute_result"
    }
   ],
   "source": [
    "nltk.download('stopwords')"
   ]
  },
  {
   "cell_type": "markdown",
   "metadata": {},
   "source": [
    "# Tokenization"
   ]
  },
  {
   "cell_type": "code",
   "execution_count": 8,
   "metadata": {},
   "outputs": [
    {
     "name": "stdout",
     "output_type": "stream",
     "text": [
      "['This', 'is', 'the', 'sample', 'sentence', 'to', 'test', 'the', 'stopwords', '.']\n"
     ]
    }
   ],
   "source": [
    "from nltk.tokenize import word_tokenize\n",
    "sent = \"This is the sample sentence to test the stopwords.\"\n",
    "print(word_tokenize(sent))"
   ]
  },
  {
   "cell_type": "code",
   "execution_count": 9,
   "metadata": {},
   "outputs": [
    {
     "name": "stdout",
     "output_type": "stream",
     "text": [
      "['This', 'is', 'the', 'sample', 'sentence', 'to', 'test', 'the', 'stopwords.']\n"
     ]
    }
   ],
   "source": [
    "print(sent.split())"
   ]
  },
  {
   "cell_type": "code",
   "execution_count": 10,
   "metadata": {},
   "outputs": [
    {
     "name": "stdout",
     "output_type": "stream",
     "text": [
      "['God is Great!', 'I won a lottery.']\n"
     ]
    }
   ],
   "source": [
    "from nltk.tokenize import sent_tokenize\n",
    "text = \"God is Great! I won a lottery.\"\n",
    "print(sent_tokenize(text))"
   ]
  },
  {
   "cell_type": "code",
   "execution_count": 11,
   "metadata": {},
   "outputs": [],
   "source": [
    "import pandas as pd"
   ]
  },
  {
   "cell_type": "code",
   "execution_count": 12,
   "metadata": {},
   "outputs": [
    {
     "name": "stdout",
     "output_type": "stream",
     "text": [
      "                1    2    3    4\n",
      "'             NaN  1.0  1.0  NaN\n",
      "'Content      NaN  1.0  NaN  NaN\n",
      "'lorem        NaN  NaN  1.0  NaN\n",
      "(             NaN  NaN  NaN  1.0\n",
      ")             NaN  NaN  NaN  1.0\n",
      ",             NaN  3.0  1.0  2.0\n",
      ".             1.0  1.0  1.0  1.0\n",
      "English       NaN  1.0  NaN  NaN\n",
      "Ipsum         NaN  1.0  1.0  NaN\n",
      "It            1.0  NaN  NaN  NaN\n",
      "Lorem         NaN  1.0  1.0  NaN\n",
      "Many          NaN  NaN  1.0  NaN\n",
      "The           NaN  1.0  NaN  NaN\n",
      "Various       NaN  NaN  NaN  1.0\n",
      "a             3.0  1.0  1.0  NaN\n",
      "accident      NaN  NaN  NaN  1.0\n",
      "and           NaN  NaN  2.0  1.0\n",
      "as            NaN  1.0  1.0  NaN\n",
      "at            1.0  NaN  NaN  NaN\n",
      "be            1.0  NaN  NaN  NaN\n",
      "by            1.0  NaN  NaN  1.0\n",
      "content       1.0  1.0  NaN  NaN\n",
      "default       NaN  NaN  1.0  NaN\n",
      "desktop       NaN  NaN  1.0  NaN\n",
      "distracted    1.0  NaN  NaN  NaN\n",
      "distribution  NaN  1.0  NaN  NaN\n",
      "editors       NaN  NaN  1.0  NaN\n",
      "established   1.0  NaN  NaN  NaN\n",
      "evolved       NaN  NaN  NaN  1.0\n",
      "fact          1.0  NaN  NaN  NaN\n",
      "...           ...  ...  ...  ...\n",
      "normal        NaN  1.0  NaN  NaN\n",
      "now           NaN  NaN  1.0  NaN\n",
      "of            1.0  2.0  NaN  NaN\n",
      "on            NaN  NaN  NaN  1.0\n",
      "opposed       NaN  1.0  NaN  NaN\n",
      "over          NaN  NaN  NaN  1.0\n",
      "packages      NaN  NaN  1.0  NaN\n",
      "page          1.0  NaN  1.0  NaN\n",
      "point         NaN  1.0  NaN  NaN\n",
      "publishing    NaN  NaN  1.0  NaN\n",
      "purpose       NaN  NaN  NaN  1.0\n",
      "readable      1.0  1.0  NaN  NaN\n",
      "reader        1.0  NaN  NaN  NaN\n",
      "search        NaN  NaN  1.0  NaN\n",
      "sites         NaN  NaN  1.0  NaN\n",
      "sometimes     NaN  NaN  NaN  2.0\n",
      "still         NaN  NaN  1.0  NaN\n",
      "text          NaN  NaN  1.0  NaN\n",
      "that          1.0  1.0  NaN  NaN\n",
      "the           1.0  NaN  NaN  2.0\n",
      "their         NaN  NaN  2.0  NaN\n",
      "to            NaN  1.0  NaN  NaN\n",
      "uncover       NaN  NaN  1.0  NaN\n",
      "use           NaN  NaN  1.0  NaN\n",
      "using         NaN  2.0  NaN  NaN\n",
      "versions      NaN  NaN  NaN  1.0\n",
      "web           NaN  NaN  2.0  NaN\n",
      "when          1.0  NaN  NaN  NaN\n",
      "will          1.0  NaN  1.0  NaN\n",
      "years         NaN  NaN  NaN  1.0\n",
      "\n",
      "[82 rows x 4 columns]\n"
     ]
    }
   ],
   "source": [
    "data = \"\"\"\n",
    "It is a long established fact that a reader will be distracted by the \n",
    "readable content of a page when looking at its layout. The point of using\n",
    "Lorem Ipsum is that it has a more-or-less normal distribution of letters, \n",
    "as opposed to using 'Content here, content here', making it look like readable \n",
    "English. Many desktop publishing packages and web page editors now use Lorem \n",
    "Ipsum as their default model text, and a search for 'lorem ipsum' will uncover \n",
    "many web sites still in their infancy. Various versions have evolved over the \n",
    "years, sometimes by accident, sometimes on purpose (injected humour and the like).\n",
    "\"\"\"\n",
    "sent_tokens = sent_tokenize(data)\n",
    "paracount = dict()\n",
    "k=1\n",
    "for line in sent_tokens:\n",
    "    wordtokens = word_tokenize(line)\n",
    "#     linecount = len(sent_tokens)\n",
    "    count = dict()\n",
    "    for word in wordtokens:\n",
    "        if word in count:\n",
    "            count[word] +=1\n",
    "        else:\n",
    "            count[word] = 1\n",
    "    paracount[k] = count\n",
    "    k+=1\n",
    "# print(paracount)\n",
    "pdf = pd.DataFrame(paracount)\n",
    "print(pdf)"
   ]
  },
  {
   "cell_type": "markdown",
   "metadata": {},
   "source": [
    "# Stopwords"
   ]
  },
  {
   "cell_type": "code",
   "execution_count": 13,
   "metadata": {},
   "outputs": [],
   "source": [
    "from nltk.corpus import stopwords #importing stopwords\n",
    "from nltk.tokenize import word_tokenize \n",
    "  \n",
    "example_sent = \"This is a sample sentence, showing off the stop words filtration.\"\n",
    "  \n",
    "stop_words = set(stopwords.words()) \n",
    "  "
   ]
  },
  {
   "cell_type": "code",
   "execution_count": 14,
   "metadata": {},
   "outputs": [
    {
     "name": "stdout",
     "output_type": "stream",
     "text": [
      "{'njenem ', 'le-takšnima ', 'bung', 'nach', 'çünki', 'farà', 'kakšne ', 'sai', 'dort', 'faceste', 'auch', 'durante', 'também', 'nekaka ', 'जुन', 'पूर्व', 'sekadar', 'για', 'pihaknya', 'teboj ', 'ومن', 'seras', 'ihres', 'no', 'pogodu ', 'zaradi ', 'namreč ', 'amely', 'teríamos', 'čigavih ', 'ἥ', 'ἀπὸ', 'sådant', 'мұндай', 'ыңқ', 'ὑπὲρ', 'memberikan', 'cuando', 'nama ', 'ذي', 'sebenarnya', 'hayamos', 'kakršno ', 'voor', 'ohne', 'kakšnem ', 'vama ', 'sedmih ', 'čigavega ', 'pernah', 'तिमी', 'triinšestdesetimi ', 'imi', 'estiveram', 'əlli', 'azután', 'zwar', 'асло', 'сонау', 'tertentu', 'etmə', 'न', 'le-onih ', 'әттең', 'estuvieses', 'trojno ', 'macam', 'هؤلاء', 'istim ', 'bare', 'čimerkoli ', 'σε', 'mas', 'štirideseto ', 'dvajseta ', 'štiriindvajset ', 'četrtega ', 'tretjim ', 'το', 'noen', 'again', 'memberi', 'haven', 'один', 'illetve', 'them', 'два', 'câţi', 'étants', 'während', 'njega ', 'ана ҳамин', 'أنتم', 'ami', 'olivat', 'berikutnya', 'аһа', 'zmoreta ', 'komu ', 'қыңқ', 'əgər', 'triinšestdesetih ', 'ἐμόσ', 'osemnajste ', 'čigavi ', 'erano', 'av', 'welchem', 'अर्थात्', 'mednju ', 'ci', 'гӯё ки', 'samma', 'devetnajstemu ', 'ليس', 'le-tiste ', 'бірнеше', 'səkkiz', 'egyre', 'deasupra', 'peterimi ', 'ὅτε', 'berkehendak', 'maramo ', 'eravamo', 'وإن', 'seréis', 'niitä', 'daca', 'sådan', 'me ', 'petintridesetem ', 'же', 'le-oni ', 'кәһ', 'kakemu ', 'morate ', 'nici', 'als', 'foarte', 'torej ', 'jih ', 'dalla', 'σὺ', 'česa ', 'trideset ', 'तिनीहरू', 'where', 'petinosemdeseta ', 'devetimi ', 'в', 'ə', 'sme ', 'δέ', 'vam ', 'estaré', 'spod ', 'bakal', 'dovoli ', 'jawaban', 'mert', 'devetih ', 'жалп', 'dvojimi ', 'यहाँसम्म', 'habrán', 'nekaj ', 'algo', 'kateremkoli ', 'कुरा', 'nikakršnimi ', 'onemu ', 'triintrideseti ', 'facessimo', 'farei', 'katerega ', 'sedemnajsta ', 'ἀλλ’', 'masalahnya', 'аст', 'olar', 'pihak', 'petintrideseti ', 'كليكما', 'lainnya', 'such', 'being', 'míos', 'drugi ', 'ҳой-ҳой ', 'kakršnimi ', 'mint', 'nuestra', 'ποῦ', 'tridesetima ', 'milyen', 'amelyek', 'itu', 'petintridesetim ', 'jota', 'unor', 'some', 'porque', 'солай', 'hanya', 'tinham', 'spre', 'berujar', 'faranno', 'hvilken', 'questo', 'ti ', 'dvaindevetdesetemu ', 'kiranya', 'мабодо', 'habremos', 'deseterega ', 'keine', 'тек', 'hende', 'сарт-сұрт', 'tisočemu ', 'nikakršna ', 'esta', 'düz', 'هيهات', 'ki ', 'ne', 'seamos', 'petsto ', 'ὑπ', 'enemu ', 'deires', 'seriam', 'dvojno ', 'валекин ', 'semisal', 'le-takšnega ', 'وإذا', 'the', \"couldn't\", 'اللذان', 'quando', 'četrtima ', 'sedemnajste ', 'către', 'kolikšnem ', 'δεν', 'puţin', 'μήτε', 'там', 'sana', 'below', 'حاشا', 'vso ', 'amelyeket', 'op', 'sesekali', 'hanyalah', 'ellos', 'trojem ', 'vuestra', 'لو', 'tanto', 'со', 'fui', 'तत्काल', 'اللذين', 'τις', 'mojimi ', 'kenestä', 'vsako ', 'ποιοσ', 'desetim ', 'is', 'onstran ', 'lima', 'njunim ', 'moram ', 'yo', 'on ', 'wieder', 'anderer', 'auraient', 'छु', 'éppen', 'दिए', 'kenapa', 'mempersiapkan', 'seseorang', 'delle', 'κατά', 'será', 'õket', 'tivemos', 'tuolla', 'के', 'eure', 'šestdeset ', 'अन्यथा', 'svoja ', 'сізбен', 'ul', 'takšnem ', 'nobeno ', 'cual', 'εκεινοσ', 'желп', 'पहिले', 'mengira', 'einmal', 'dikatakan', 'ayantes', 't', 'kogarkoli ', 'atita', 'әйда', 'čigavemu ', 'आयो', 'cand', 'εαν', 'anden', 'vært', 'ἐὰν', 'skal', 'stavo', 'osmemu ', 'саңқ', 'hänellä', 'tolikemu ', 'dvestoto ', 'nereye', 'petintridesetima ', 'ҳай-ҳай ', 'sepanjang', 'kon', 'hänet', 'पनि', 'nekak ', 'på', 'men', 'οὐδὲν', 'cuma', 'sitä', 'ἢ', 'sinusta', 'enajstemu ', 'blive', 'namun', 'pelos', 'nekakim ', 'le-tistim ', 'bisa', 'μετ', 'ἐκ', 'ὃ', 'hal', 'néha', 'оның', 'गरी', 'mengatakannya', 'just', 'der', 'unui', 'aici', 'kajpak ', 'deze', 'pastilah', 'tertuju', 'boleh', 'auront', 'njih ', 'njihovi ', 'ὑπέρ', 'هذا', 'tretja ', 'sonst', 'unu', 'aies', 'stota ', 'sebagainya', 'tvojem ', 'mein', 'τα', 'contro', 'oba ', 'ما', 'kasus', 'är', 'keadaan', 'по', 'nanje ', 'berturut-turut', 'сізден', 'dă', 'for', 'қаңқ-қаңқ', 'mir', 'smelo ', 'merasa', 'cam', 'sedemindvajseti ', 'zakaj ', 'perlu', 'morem ', 'أو', 'houve', 'njiju ', 'ketkä', 'अरुलाई', 'мәссаған', 'bekerja', 'näille', 'estes', 'osemindevetdesetim ', 'sinulta', 'deseterem ', 'njihov ', 'memihak', 'le', 'pour', 'dvojega ', 'tivermos', 'enajsto ', 'häneen', 'разве', 'soll', 'teníais', 'smete ', 'ge', 'ble', 'avranno', 'nimeni', 'tretjega ', \"aren't\", 'tuviésemos', 'nous', 'rasa', 'eu', 'әйтпесе', 'gotovo ', 'सारा', 'aveţi', 'triintrideseto ', 'nikakršnega ', 'لا', 'éramos', 'keiltä', 'tästä', 'nekom ', 'at', 'predme ', 'एक', 'सक्छ', 'estivemos', 'nu', 'निम्ति', 'ало', 'sedeminšestdeset ', 'petintridesetih ', 'чтобы', 'petindvajsetem ', 'šestdesetima ', 'pertama-tama', 'careia', 'dvaindevetdesete ', 'diucapkannya', 'osemnajsta ', 'toată', 'εκεινη', 'nekaterima ', 'nello', 'joksi', 'mengingat', 'निम्नानुसार', 'szemben', 'πρὸ', 'nyt', 'triintridesete ', 'podnjo ', 'вой-вой', 'petnajstem ', 'vilket', 'le-takšne ', 'bunu', 'melyek', 'كلما', 'biasa', 'بهن', 'trojni ', 'bagaimana', 'agl', 'memperbuat', 'çok', 'beberapa', 'štiridesetih ', 'sommes', 'inca', 'ničemer ', 'fai', 'tienen', 'temveč ', 'tuohon', 'sub', 'προ', \"hasn't\", 'aurons', 'caruia', 'le-takimi ', 'अक्सर', 'dasselbe', 'kelamaan', 'ravno ', 'mi', 'εκεινο', 'avute', 'secara', 'sedemindvajsetimi ', 'theirs', 'sunteţi', 'their', 'êtes', 'tolikšnim ', 'tahu', 'menyeluruh', 'после', 'mengatakan', 'altmış', 'čigavimi ', 'nouă', 'जसलाई', 'avem', 'à', 'tisočo ', 'dve ', 'ben', 'kolikšen ', 'sedeminpetdesetim ', 'sto ', 'saja', 'sentidas', 'in ', 'enaindvajsetimi ', 'tisočerega ', 'чтоб', 'denna', 'өзің', 'zadosti ', 'bəzi', 'šestdeseto ', 'οὗ', 'enkratnega ', 'kata', 'kakšnemu ', 'niti ', 'بلى', 'or', 'steste', 'мана', 'tämä', 'ditanyakan', 'क्रमशः', 'veel', 'begitulah', 'terhadap', 'saremmo', 'njeni ', 'sedeminšestdesetih ', 'keillä', 'тырс', 'han', 'makanya', 'smeli ', 'dovoljena ', 'вале', 'hinter', 'tiba', 'wenn', 'πωσ', 'آي', 'habrás', 'au', 'takšnega ', 'хорошо', 'deines', 'houvessem', 'sarete', 'che', 'dvakratnim ', 'sedemindvajsete ', 'күрт', 'tak', 'что', 'devetima ', 'sedmimi ', 'bržčas ', 'لكي', 'تلك', 'nostra', 'baru', 'egyik', 'asalkan', 'του', 'jenem', 'далаң-далаң', 'intre', 'ербелең-ербелең', 'disebut', 'mă', 'petinosemdesetih ', 'taka ', 'ποτε', 'le-ti ', 'petinpetdesetimi ', 'entre', 'bili ', 'einig', 'олармен', 'ette', 'trinajstima ', 'kdo ', 'наход', 'астапыралла', 'quien', 'avresti', 'petnajsti ', 'منذ', 'vanjo ', 'tvoji ', 'blei', 'देखियो', 'ешкім', 'vaša ', 'noilta', 'af', 'dvojnima ', 'таман', 'stettero', 'houvesse', 'ju', 'sånn', 'ҳатто ', 'een', 'siate', 'dvojim ', 'otros', 'хоть', 'štiristotim ', 'mogli ', 'štiriindvajsetemu ', 'tolikšne ', 'setinggi', 'oldu', 'dimungkinkan', 'ismét', 'dvaindevetdesetih ', 'houverem', 'meidät', 'حيث', 'diucapkan', 'stote ', 'šesta ', 'petinosemdesetem ', 'dvakratnem ', 'nekakima ', 'жоқ', 'teriam', 'शायद', 'stoterima ', 'tretje ', 'у', 'ним', 'bertanya', 'preden ', 'ayante', 'segalanya', 'enajstimi ', 'tridesetem ', 'ditunjuk', 'weil', 'siapapun', 'أنا', 'yenə', 'sille', 'καὶ', 'e', 'eines', 'njegovim ', 'vart', 'сіздің', 'drept', 'keneen', 'tengan', 'किनभने', 'dvoj ', 'tengáis', 'tandasnya', 'honom', 'izpred ', 'tinha', 'fut', 'indem', 'dipastikan', 'von', 'disampaikan', 'kuka', 'ihre', 'sesama', 'menanyai', 'sedikit', 'quem', 'muss', 'ҳм', 'dov', 'tutti', 'oricînd', 'tuo', 'тем', 'etdi', 'takšnimi ', 'dovoljen ', 'zu', 'stotemu ', 'čem ', 'εἴτε', 'és', 'îi', 'estarán', 'så', 'misal', 'но', 'šeststo ', 'njej ', 'κἀν', 'auf', 'berupa', 'να', 'चाहनुहुन्छ', 'niste ', 'daar', 'गर्दै', 'देखे', 'voştri', 'terei', 'mille', 'kamilah', 'sebaik-baiknya', 'musste', 'solches', 'želeti ', 'one ', 'stoti ', 'bukankah', 'vsakogar ', 'μη', 'себя', 'seines', 'osmo ', 'enkratnem ', 'tuyas', 'sarà', 'vuestras', 'triindvajsetima ', 'kami', 'j', 'le-tistima ', 'τοῦ', 'maraš ', 'petindvajsetimi ', 'dvestote ', 'анау', 'des', 'skozi ', 'sui', 'nekakšne ', 'дар ҳолате ки', 'ja', 'aurai', 'midva ', 'или', 'агар чи', 'estão', 'aceasta', 'τίσ', 'ujarnya', 'estivéramos', 'أنتن', 'trikratnih ', 'petdeseto ', 'trojnim ', 'vele', 'ez', 'habe', 'll', 'eşti', 'sedemindvajsetemu ', 'berturut', 'आजको', 'avut', 'meg', 'zmorejo ', 'četrtimi ', 'ештеме', 'osemindevetdesetih ', 'fii', 'estabais', 'meitä', 'dazu', 'tebi ', 'ذاك', 'selaku', 'бинобар ин', 'tolikem ', 'deveti ', 'fiu', 'dvestotem ', 'kolikšnim ', 'för', 'against', 'moja ', 'нельзя', 'patru', \"δ'\", 'petindvajseta ', 'ποιο', 'avrò', 'فلا', 'бәрекелді', 'étées', 'naj ', 'τὴν', 'katerih ', 'häntä', 'keines', 'usah', 'सबै', 'nekakemu ', 'detta', 'mia', 'takle ', 'hab', 'यदि', 'sullo', 'niiksi', 'नौ', 'percuma', 'alti', 'benarlah', 'kolikemu ', 'drugačni ', 'kolikima ', 'ειστε', 'sunt', 'bis', 'ditunjukkan', 'ucap', 'ponjo ', 'भन्छन्', 'heç', 'terá', 'mojih ', 'ذواتي', 'шояд', 'ett', 'si', 'sini', 'predse ', 'ilk', 'भित्री', 'да', 'rata', 'petnajsta ', 'nada', 'dvanajstimi ', 'opp', 'bojda ', 'zmogl', 'vostru', 'seáis', 'dagl', 'koli ', 'diibaratkan', 'petintridesetega ', 'coi', 'par', 'viel', 'я', 'ni', 'takšnim ', 'spričo ', 'keneltä', 'kolikšnima ', 'brez ', 'osmih ', 'facesti', 'कहाँबाट', 'triintridesetemu ', 'marsikatere ', 'παρ', 'mengucapkan', 'an', 'δε', 'marsikaterih ', 'njunih ', 'trojnima ', 'želijo ', 'heidät', 'njihovo ', 'дида', 'kakršnihkoli ', 'mnogo ', 'ذات', 'zunaj ', 'из', 'takih ', 'هل', 'enakim ', 'njihovega ', 'triinpetdesetimi ', 'deseta ', 'dess', 'trikratnem ', 'kembali', 'õ', 'tengamos', 'od ', 'lângă', 'četrta ', 'जसको', 'and', 'hänessä', 'keissä', 'ollut', 'ἀφ', 'estarían', 'serás', 'meni ', 'ته', 'ju ', 'aztán', 'γα^', 'petindevetdesetim ', 'vors', 'zanje ', 'devetintridesetih ', 'le-to ', 'kajti ', 'marsikaterima ', 'tolikšno ', 'he', 'trinajstega ', 'degl', 'caranya', 'minut', 'petinštirideseti ', 'dvajseto ', 'dvajsetem ', 'यति', 'enaintridesetih ', 'ničesar ', 'hadde', 'vsaka ', 'tehle ', 'более', 'tolikšni ', 'seorang', 'तिनीहरुको', 'ол', 'houvéramos', 'بس', 'még', 'tolika ', 'yani', 'dvakratni ', 'اللواتي', 'әй', 'smo ', 'जताततै', 'οὐδεὶς', 'कृपया', 'ἄλλοσ', 'арс', 'njene ', 'दोस्रो', 'hubisteis', 'dall', 'setidak-tidaknya', 'eller', 'е', 'bertutur', 'tersebutlah', 'таяу', 'संग', 'fiţi', 'tretjem ', 'joille', 'enajsta ', 'sedemdesetim ', 'μην', 'mana', 'कम से कम', 'zmogel ', 'enajstih ', 'amelyet', 'negli', 'eût', 'только', 'mías', 'oricine', 'mu', 'eri', 'ise', 'tandas', 'amikor', 'sein', 'перед', 'kolik ', 'teu', 'naših ', 'petdesetima ', 'tendría', 'tiap', 'iar', 'إلا', 'गर्छु', 'terão', 'सात', 'जब', 'hans', 'ἐν', 'diperbuatnya', 'dvanajstima ', 'عسى', 'le-tistega ', 'cite', 'vaikka', 'memerlukan', 'tuyos', 'ذه', 'petindevetdesetimi ', 'šestnajsti ', 'bəlkə', 'κατ', 'stoto ', 'kenellä', 'tolikega ', 'tampak', 'nobene ', 'vanje ', 'solche', 'osemdesetem ', 'tú', 'habrá', 'إن', 'había', 'ὅθεν', 'साँच्चै', 'mit', 'sepantasnya', 'моя', 'tuvieras', 'jelaskan', 'әукім', 'raz ', 'decit', \"weren't\", 'estou', 'राख्छ', 'τησ', 'domala ', 'ničemur ', 'zmogli ', 'ese', 'avremo', 'havemos', 'enkratna ', 'menunjuknya', \"mightn't\", 'se', 'petindvajsetim ', 'kim', 'tivéramos', 'naše ', 'enajste ', 'isto ', 'hə', 'aber', 'ἔτι', 'quante', 'oricând', 'μεθ', 'них', 'mai', 'manalagi', 'y', 'ses', 'berawal', 'šestindvajsetih ', 'berapa', 'asta', 'kimə', 'ألا', 'bliver', 'ste ', 'संगै', 'stotim ', 'sobre', 'šestnajsto ', 'τοῖς', 'egész', 'sería', 'şu', 'пішту', 'căci', 'भएको', 'эҳ', 'bolehkah', 'noua', 'šestem ', 'avevano', 'bizim', 'τόν', 'var', 'às', 'mogel ', 'τε', 'isso', 'seria', 'eux', 'samme', 'benne', 'tendrás', 'acestia', 'prvih ', 'nisi ', 'sedmim ', 'ar', 'meiltä', 'česar ', 'osemindevetdesetimi ', 'amolyan', 'لعل', 'houvermos', 'avessero', 'on', 'hva', 'tolikšna ', 'eures', 'apaan', 'petdesetega ', 'toliki ', 'estabas', 'deres', 'τινα', 'инҷониб', 'satu', 'mîine', 'छ', 'najina ', 'ἐστι', 'даже', 'drugemu ', 'így', 'mihin', 'los', 'агар-чанд', 'delas', 'ذلكما', 'medse ', 'elõször', 'sina', 'čeznje ', 'ҳар', 'çox', 'mojima ', 'mulţi', 'cita', 'apatah', 'sinut', 'түге', 'dva ', 'najinim ', 'sebetulnya', 'bermaksud', 'бірдеме', 'zraven ', 'end', 'même', 'devetdeseti ', 'prva ', 'varför', 'गरेको', 'estados', 'aceeasi', 'moral ', 'mightn', 'जसबाट', 'unser', 'hayáis', 'емес', 'tolikšnem ', 'zum', 'магар ', 'nečim ', 'estés', 'svojo ', 'šestnajste ', 'қоса', 'melihat', 'को', 'lo', 'sue', 'sela', 'lenni', 'dit', 'kolika ', 'biraz', 'setelah', 'enaindvajsetih ', 'diesen', 'anderes', 'tisočima ', 'waktu', 'avrà', 'koliki ', 'meu', 'antaranya', 'لستن', 'želena ', 'katerem ', 'dina', 'adapun', 'ولكن', 'σόσ', 'شتان', 'भन', 'kini', 'छू', 'noin', 'štiristotimi ', 'hoteli ', 'alea', 'mənə', 'पहिलो', 'habrían', 'vă', 'jedem', 'ὑπό', 'petimi ', 'pero', 'avesti', 'vsakršnim ', 'dimaksudkan', 'estábamos', 'zich', 'meinen', 'nasproti ', 'sont', 'osemdesetemu ', 'fuesen', 'vsakemu ', 'najsi ', 'ὥστε', 'ditt', 'vreo', 'быть', 'do', 'шіңк', 'disebutkannya', 'fiecare', 'estive', 'kapankah', 'petem ', 'me', 'malone ', 'putini', 'deseto ', 'muchos', 'habríamos', 'birşey', 'njegovem ', 'बारे', 'varje', 'njun ', 'le-tako ', 'naš ', 'гөрі', 'teissä', 'vaš ', 'στη', 'stai', 'deinen', 'अन्तर्गत', 'dessa', 'қатар', 'mes', 'serían', 'арс-ұрс', 've', 'viszont', 'essendo', 'leur', 'vsakih ', 'petinštiridesetega ', 'жалт-жалт', 'dello', 'ولا', 'ποιεσ', 'jo ', 'sangatlah', 'cara', 'enakemu ', 'nate ', 'уай', 'petinosemdesetima ', 'tale', 'sokkal', 'aie', 'қолп', 'essas', 'esté', 'elles', 'sebagian', 'ayons', 'devetnajsti ', 'στον', 'لها', 'istih ', 'ليسوا', 'menyiapkan', 'menanti-nanti', 'ё ки', 'tisoč ', 'біздерге', 's', 'petindvajsetih ', 'vajinemu ', 'werde', 'أف', 'tridesetemu ', 'देखिन्छ', 'ungkap', 'hubiese', 'boste ', 'štirideseti ', 'ama', 'marsikaterim ', 'hadn', 'ὅπερ', 'habíais', 'vsega ', 'vsakršni ', 'पर्थ्यो', 'ба', 'menyebutkan', 'لست', 'jelasnya', 'yourselves', 'avevamo', 'moet', 'enaindvajsetim ', 'ҳо ана', 'bermacam-macam', 'svoj ', 'ole', 'multi', 'впрочем', 'οὓς', 'tus', 'sedemdeset ', 'kva', 'desetero ', 'enakimi ', 'mempersoalkan', 'cîţi', 'шамалы', 'couldn', 'ungkapnya', 'semampu', 'čigavem ', 'बिरुद्ध', 'lagian', 'kakim ', 'ай', 'sarei', 'tuve', \"doesn't\", 'jer', 'îţi', 'tista ', 'dovoliti ', 'па', 'prima', 'taki ', 'serão', 'den', 'kolikšne ', 'त', 'nikakršni ', 'xan', 'mine', 'habíamos', 'valaki', 'devetnajste ', 'dvajsetim ', 'starò', 'ditambahkan', 'erais', 'njuno ', 'temile ', 'ωσ', 'kolikem ', 'saj ', 'le-teh ', 'өз', 'hay', 'meminta', 'τισ', 'pak', 'estada', 'toti', 'themselves', 'sull', 'күллі', 'tisočimi ', 'sebaiknya', 'जस्तोसुकै', 'कि', 'sia', 'njegovi ', 'опять', 'bár', 'trojim ', 'sejenak', 'menunjuk', 'совсем', 'hepsi', 'štiridesetima ', 'enih ', 'вдруг', 'tive', 'бізбен', 'trikratne ', 'sur', 'hubieran', 'njen ', 'seterusnya', 'olmuşdur', 'bodisi ', 'after', 'takimile ', 'tri ', 'atata', 'stoteri ', 'τῶν', 'ataukah', 'le-onemu ', 'tisočer ', 'أي', 'eussiez', 'eitt', 'triintridesetega ', 'hubieron', 'аз-баски ', 'desetere ', 'həmin', 'quelli', 'nekakšnega ', 'míg', 'ž ', 'dvestotega ', 'εκεινουσ', 'memperlihatkan', 'pai', 'osemdesetimi ', 'takšno ', 'šestdeseti ', 'čez ', 'ona ', 'cikkeket', 'triinpetdesetim ', 'ἄλλος', 'аё', 'wirst', 'machen', 'шәйт', 'triintridesetima ', 'niets', 'πρὸς', 'morata ', 'terdapat', 'le-taka ', 'إذ', 'what', 'njune ', 'etmək', 'abbiate', 'šeste ', 'ἃ', 'biasanya', 'le-tem ', 'each', 'otra', 'εἰμί', 'والذي', 'यी', 'tuvieran', 'қалт-құлт', 'पहिल्यै', 'diperkirakan', 'le-one ', 'τό', 'begini', 'takile ', 'le-tej ', 'allen', 'sedemdesetem ', 'maram ', 'dəqiqə', 'οτι', 'från', 'какая', 'vuestros', 'vom', 'staremmo', 'trinajstem ', 'une', 'petdesetim ', 'لسن', 'étante', 'daripada', 'hubiésemos', 'ca', 'шаңқ-шаңқ', 'le ', 'siapakah', 'kolikšnimi ', 'была', 'nisva ', 'олардан', 'ebbi', 'četrtih ', 'joista', 'stoterem ', 'takimi ', 'सबैलाई', 'minha', 'когда', 'hogy', 'kakršna ', 'derer', 'олар', 'smemo ', 'mina', 'idi', 'هذي', 'бетер', 'dilakukan', 'membuat', 'салаң-сұлаң', 'želen ', 'mirşey', 'enajsti ', 'zoper ', 'zmogla ', 'wahai', 'più', 'मेरो', 'marsikdo ', 'blivit', 'moi', 'siz', 'keinä', 'लाई', 'heistä', 'manche', \"ἀλλ'\", 'समय', 'estuvieras', 'ё', 'nečesa ', 'minulla', 'aş', 'tisočerem ', 'дар', 'lakin', \"didn't\", 'fussions', 'hat', 'našemu ', 'ἡ', 'алайда', 'oder', 'τοί', 'onun', 'kolikšnega ', 'sekali', 'estejam', 'آها', 'pelas', 'kateregakoli ', 'enaindvajsetega ', 'мне', 'αἵ', 'почти', 'هاتي', 'căror', 'sebesar', 'nekima ', 'hendak', 'nekomu ', 'somos', 'зачем', 'onların ', 'tengah', 'оған', 'әттегенай', 'herself', 'kakšnimi ', 'estivesse', 'minulta', 'marajmo ', 'ὃς', 'дүрс', 'الذين', 'то', \"you've\", 'sendirian', 'nočeva ', 'sesegera', 'pînă', 'amit', 'fomos', 'takemle ', 'zanj ', 'lanjut', 'sedemnajstimi ', 'ai', 'näiden', 'vsakršen ', 'menjadi', 'sentida', 'šestih ', 'सम्म', 'inainte', 'sedemstotimi ', 'маған', 'facciano', 'niinä', 'osemnajsti ', 'wie', 'дейін', 'ao', 'ثم', 'neke ', 'dovoljeno ', 'με', 'eğer', 'semasa', 'ҳтимол', 'kira-kira', 'हो', 'қаңқ-құңқ', 'teh ', 'triinpetdesetih ', 'fueseis', 'jeder', 'devetnajst ', 'если', 'petinsedemdesetim ', 'шаңқ-шұңқ', 'desetima ', 'estaban', 'belakang', 'devetnajstega ', 'bersama-sama', 'αυτουσ', 'барша', 'voltam', 'komerkoli ', 'daß', 'farebbero', 'stando', 'dykkar', 'meiner', 'ποιουσ', 'ditunjuki', 'awal', 'minua', 'bapak', 'ειμαστε', 'osmem ', 'été', 'tretjih ', 'few', 'čemu ', 'katerikoli ', 'теперь', 'stiamo', 'här', 'jonka', 'sedeminšestdesetim ', 'sedemindvajsetem ', 'siano', 'хом?ш', 'sizlər', 'você', 'razen ', 'semakin', 'που', 'σύ', 'petinsedemdesetih ', 'takegale ', 'estuvo', 'tisočerih ', 'сенің', 'сенде', 'تي', 'чунки', 'аз афташ', 'seinem', 'vašima ', 'njenim ', 'әлдене', 'sebut', 'cu', 'तिनी', 'who', 'oseminštiridesetim ', 'осынау', 'niihin', 'njim ', 'ваҳ', 'edinole ', 'siinä', 'trojnih ', 'γα', 'jima ', 'vad', 'mistä', 'sempat', 'bagai', 'fûtes', 'tisoče ', 'दुई', 'ва', 'μὲν', 'إذن', 'its', 'sinä', 'diminta', 'tanya', 'osemdesetih ', 'कसैले', 'noista', 'minulle', 'houverá', 'агар', 'teremos', 'trikratnimi ', 'dvanajstih ', 'kira', 'čigavima ', 'fueses', 'že ', 'estamos', 'stoteremu ', 'tejle ', 'olyan', 'маңқ', 'aller', 'لستم', 'anderem', 'treia', 'maka', 'كيت', 'әлдеқашан', 'sekitarnya', 'нибудь', 'atas', 'unde', 'sejauh', 'le-tistimi ', 'sin', 'noe', 'यस्तो', 'diberikan', 'kakršnim ', 'siapa', 'minuun', 'nikakršnem ', 'kak ', 'sredi ', 'kake ', 'devetega ', 'tuviste', 'namesto ', 'aquela', 'berikan', 'hajamos', 'zame ', 'nočete ', 'रूप', 'da', 'о', 'blitt', 'joina', 'sedmega ', 'будет', 'disinilah', 'ei', 'कसै', 'werden', 'nekaterih ', 'estarás', 'peti ', 'te', 'dvojna ', 'menghendaki', 'tistemu ', 'aceea', 'menegaskan', 'facevi', 'ὥς', 'marsikateremu ', 'diakhirinya', 'nobenimi ', 'nekakšni ', 'متى', 'ἐάν', 'neki ', 'marati ', 'nokor', 'serai', 'trojnimi ', 'назди', 'dovolil ', 'जसमा', 'такой', 'ditunjukkannya', 'пішә', 'iste ', 'cind', 'untuk', 'berlangsung', 'ennek', 'selanjutnya', 'olisi', 'jadinya', 'كأن', 'sicer ', 'csak', 'وهو', 'vsaki ', 'шаңқ', 'devet ', 'joka', 'осы', 'καί', 'bukan', 'starete', 'nikakršnih ', 'ذان', 'siap', 'joilta', 'saat', 'هاته', 'tistem ', 'चाले', 'बने', 'četrtemu ', 'kaka ', 'saranno', 'troj ', 'petnajste ', 'guna', 'sendiri', 'peteremu ', 'mellan', 'há', 'sem ', 'себе', 'noiksi', 'التي', 'z ', 'iets', 'εκεινεσ', 'एउटै', 'devetem ', 'mengakhiri', 'нее', 'iznad ', 'akkor', 'quanto', 'unele', 'على', 'estivéssemos', 'dveh ', 'über', 'belül', 'du', 'αυτα', 'nikakršen ', 'această', 'najino ', 'eurem', 'menjelaskan', 'now', 'soal', 'kom', 'pet ', 'vašega ', 'würde', 'себебі', 'einer', 'जस्तो', 'sind', 'belum', 'nekih ', 'tvojemu ', 'estuviesen', 'depan', 'alt', 'εκεινοι', 'hotita ', 'diakhiri', 'पर्छ', 'xeyr', 'disini', 'triinšestdeset ', 'кадом', 'štiriindvajsetimi ', 'devetdesetim ', 'هاهنا', 'esa', 'wong', 'osmi ', 'li', 'ed', 'ces', 'ellas', 'kunde', 'чанд', 'tristote ', 'hubieses', 'καίτοι', 'vrh ', 'haar', 'sehingga', 'petima ', 'нахот', 'enaindvajset ', 'сейчас', 'abbiano', 'dvanajstega ', 'tisočerim ', 'nami ', 'našimi ', 'dovolita ', 'ko ', 'las', 'le-tista ', 'hon', 'houvera', 'petinštiridesetemu ', 'vaše ', 'mí', 'ειναι', 'trojega ', 'arasında', 'tretjima ', 'τίς', 'bermacam', 'məhz', 'lap', 'tristoti ', 'down', 'sekecil', 'mojemu ', 'dvajsetega ', 'njihovih ', 'devetstotih ', 'nekakšnem ', 'forem', 'osemindevetdeset ', 'suyo', 'dvaindevetdesetem ', 'estuviéramos', 'voltunk', 'misalnya', 'mojem ', 'altcineva', 'seperti', 'devetnajsto ', 'le-tisti ', 'hvor', 'your', 'zelf', 'sadəcə', 'ҳамон', 'vsakršne ', 'own', 'ditegaskan', 'miei', 'beginikah', 'hei', 'smeš ', 'bagaimanakah', 'ҳаргиз', 'बीच', 'يا', 'zares ', 'sjøl', 'nei', 'menyampaikan', 'esses', 'enaindvajseta ', 'trikraten ', 'egyetlen', 'setibanya', 'njunimi ', 'isi', 'қызараң-қызараң', 'ik', 'aux', 'ils', 'deras', 'inikah', 'warst', 'всегда', 'didapat', 'v ', 'enkratni ', 'továbbá', 'tristotima ', 'sus', 'tile ', 'кірт', 'بخ', 'sto', 'vort', 'بعض', 'isti ', 'faccio', 'бояд', 'जहाँ', 'acela', 'tisočeremu ', 'ар', 'menuju', 'ella', 'ὃν', 'druga ', 'kanssa', 'itak ', 'dvestotih ', 'यसको', 'эту', 'sinilah', 'tisočerimi ', 'tengo', 'sekali-kali', \"shan't\", 'peste', 'osemdeset ', 'πρόσ', 'ᾧ', 'le-onimi ', 'näitä', 'skorajda ', 'oricare', 'туралы', 'siente', 'don', 'alta', 'niet', 'kakršnimikoli ', 'бүкіл', 'mungkin', 'जान', 'هكذا', 'peterega ', 'to ', 'prve ', 'tiverem', 'karena', 'olisivat', 'dvajsetima ', 'ga ', 'ले', 'petinosemdesetim ', 'nekakem ', 'sesudah', 'dvakratno ', 'nočejo ', 'atit', 'denn', 'ji ', 'estadas', 'njegov ', 'три', 'nas', 'enakem ', 'pot', 'formos', 'لي', 'mempertanyakan', 'eran', 'еще', 'olen', 'össze', 'terlalu', 'triindvajseti ', 'kakršenkoli ', 'сіздерге', 'nanj ', 'után', 'zmorem ', 'गरेर', 'skoznjo ', 'sau', 'sois', 'kakršnemu ', 'do ', 'étions', 'गए', 'nekimi ', 'olleet', 'tätä', 'nicht', 'esse', 'svojih ', 'tanyanya', 'дәнеңе', 'berapapun', 'osemnajst ', 'jaz ', 'šestnajsta ', 'disse', 'toda ', 'नै', 'seperlunya', 'catre', 'kolikšna ', 'уже', 'petega ', \"needn't\", 'vame ', 'al', 'tähän', 'ё ин ки  ', 'ook', 'täksi', 'өйткені', 'osem ', 'näiksi', 'manchen', 'avrebbero', 'suis', 'takimle ', 'vsa ', 'setiap', 'dvakraten ', 'devetnajstih ', 'during', 'luar', 'agaknya', 'vašimi ', 'ие', 'nor', 'यसरी', 'tretji ', 'ezt', 'sejamos', 'estuve', 'inilah', 'menambahkan', 'сен', 'takele ', 'štiriindvajseto ', 'sondern', 'tristo ', 'lain', 'सधै', 'dvanajstemu ', 'dimulai', 'sepantasnyalah', 'तुरुन्तै', 'trojih ', 'osmima ', 'ὅδε', 'hampir', 'vagy', 'tridesete ', 'mempergunakan', 'ale', 'paling', 'desde', 'mula', 'tenidas', 'einige', 'dua', 'trojen ', 'eûtes', 'भन्दा', 'geen', 'queste', 'nikakršnim ', 'dvoje ', 'саған', 'res ', 'amat', 'want', 'لاسيما', 'fûmes', 'našo ', 'अन्य', 'nur', 'δ’', 'terbanyak', 'avions', 'nyatanya', 'tiver', 'sambil', 'dibuat', 'они', 'kok', 'kvarhelst', 'betulkah', 'agar', 'čimer ', 'ı', 'vašim ', 'solcher', 'oricât', 'zmore ', 'antar', 'siltä', 'mindenki', 'dovoljeni ', 'aveste', 'how', 'sesuatunya', 'numa', 'amma', 'οὐ', 'لما', 'إنا', 'لكما', 'ἄν', 'osemnajstimi ', 'houver', 'αἳ', 'másik', 'vseh ', 'tanpa', 'kala', 'ах', 'tentulah', 'bodimo ', 'für', 'ҳангоми', 'eusses', 'tüm', 'avessimo', 'аҳа', 'hanem', 'suoi', 'бале ', 'er', 'лучше', 'there', 'estaréis', 'siihen', 'takim ', 'गरि', 'd', 'kelihatannya', 'баъд аз он ки', 'hatte', 'algunas', 'teria', 'serías', 'sonra', 'lehet', 'sinulle', 'sehr', 'nisem ', 'estás', 'trojimi ', 'entah', 'door', 'spet ', 'moji ', 'кошкӣ', 'هاتين', 'cîte', 'pelo', 'aku', 'өзімнің', 'moraš ', 'अझै', 'ҳатто ки', 'ничего', 'әрқайсы', 'estuvieron', 'dvanajstim ', 'keneksi', 'vzdolž ', 'között', 'menantikan', 'stessimo', 'ada', 'tolike ', 'bij', 'vsakršnega ', 'чаро ки', 'dikira', 'dans', 'skozte ', 'κατὰ', 'dvaindevetdesetima ', 'кәні', 'teidät', 'malahan', 'soyez', 'αὖ', 'noastră', 'valami', 'pete ', 'həm', 'osemnajstega ', 'puţină', 'estos', 'tue', 'dahulu', 'nel', 'marsičem ', 'nostru', 'meihin', 'săi', 'kogar ', 'nekemu ', 'бұл', 'niille', 'әлдеқайдан', 'njeno ', 'algunos', 'deset ', 'οἳ', 'tistih ', 'hočejo ', 'osemdesetim ', 'estuviésemos', 'teitä', 'semmi', 'ҳой', 'حتى', 'кто', 'avons', 'ὅσ', 'تلكما', 'nerde', 'nobenega ', 'vsake ', 'wird', 'wouldn', 'henne', 'tapi', 'somt', 'प्रतेक', 'štirinajste ', 'ceea', 'é', 'tuvimos', 'janganlah', 'tisti ', 'tidakkah', 'ешқандай', 'vajina ', 'birkaç', 'until', 'tuvo', 'tuvieseis', 'face', 'عند', 'vsakim ', 'ovat', 'दिनुहुन्छ', 'ingi', 'bile ', 'nekakšna ', 'druge ', 'dele', 'juga', 'tisoči ', 'tenida', 'tenemos', 'خلا', 'dikerjakan', 'del', 'cum', 'біздің', 'estando', 'ομωσ', 'प्लस', 'čigar ', 'persoalan', 'bil ', 'оббо', 'чӣ', 'dvaindevetdeseto ', 'sedemnajstim ', 'dvesto ', 'defa', 'tvoje ', 'estén', 'šestindvajsetim ', 'tentu', 'tivera', 'so', 'enajstega ', 'le-onim ', 'noiden', 'sea', 'tersampaikan', 'stotem ', 'كم', 'hebben', 'tetap', 'dvainšestdesetim ', 'барқ', 'estoy', 'come', 'шек', 'between', 'prek ', 'diperlukan', 'उहालाई', 'ej', 'marsikomu ', 'nəhayət', 'die', 'kuin', 'have', 'azonban', 'ayant', 'dno ', 'sedemnajstega ', 'dvaindevetdesetega ', 'marajta ', 'njegovih ', 'bilakah', 'aibă', 'keterlaluan', 'bisakah', 'पर्याप्त', 'marsikaterimi ', 'өзінің', 'ingen', 'εἰσ', 'были', 'drugačnih ', 'devetnajstem ', 'edən', 'toch', 'naša ', 'če ', 'pe', 'semasih', 'tälle', 'čigavo ', 'dau', 'ker ', 'بكن', 'ей', 'bagaimanapun', 'біреу', 'hem', 'sul', 'вам', 'إيه', 'उनको', 'гӯё', 'aquele', 'dvanajsto ', 'utána', 'farebbe', 'cukuplah', 'moglo ', 'сенен', 'कसरी', 'andere', 'ali ', 'teus', 'bütün', 'njunima ', 'bukanlah', 'marsikatero ', 'नजिकै', 'kapanpun', 'alle', 'vannak', 'najinega ', 'sebe ', 'vilka', 'fôssemos', 'fussent', 'εἴ', 'vajin ', 'эътиборан', 'facevate', 'enggak', 'конечно', 'einem', 'батыр-бұтыр', 'pantas', 'berdatangan', 'she', 'seluruh', 'ditunjuknya', 'seré', 'štirinajsta ', 'әрне', 'niillä', 'هذان', 'aia', 'šestdesetih ', 'səhv', 'cukupkah', 'reeds', 'habida', 'إنما', 'біз', 'deseterima ', 'semata', 'ин', 'krog ', 'le-takem ', 'حين', 'estad', 'тағы', 'iti', 'агар ки', 'to', 'tuotä', 'ihren', 'menggunakan', 'sedemikian', 'sedmo ', 'le-takšen ', 'dimaksudnya', 'trikratnima ', 'seluruhnya', 'maraj ', \"mustn't\", 'noko', 'triindvajsete ', 'bizlər', 'οὐδείσ', 'facciamo', 'drugačnega ', 'ahogy', 'nekateremu ', 'triindvajsetim ', 'enaka ', 'kolikšno ', 'шояд ки', 'šestindvajset ', 'euer', 'бүйт', 'nikar ', 'preprosto ', 'tem', 'ho', 'ау', 'चाहिए', 'padanya', 'ay', 'cărui', 'segera', 'istimi ', 'mykje', 'sanki', 'eddig', 'पछि', 'melihatnya', 'ὦ', 'unii', 'vajini ', 'seront', 'itself', 'nekim ', 'justru', 'masalah', 'pina', 'ela', 'njunemu ', 'näinä', 'वास्तवमा', 'desselben', 'artıq', 'habidos', 'mendatang', 'siksi', 'suyos', 'khususnya', 'welchen', 'kolikih ', 'skulle', 'हरे', 'aura', 'tentang', 'avea', 'katerimi ', 'keinem', 'seusai', 'nadenj ', 'шақты', 'мынау', 'acestui', 'kakršnimakoli ', 'ən', 'tudi ', 'аз баҳри он ки', 'seenaknya', 'med ', 'вақте ки', 'stemmo', 'dell', 'său', 'هما', 'nočemo ', 'есть', 'četudi ', 'šestintridesetih ', 'فيها', 'pasti', 'dovolila ', 'katere ', 'želelo ', 'questa', 'так', 'ini', 'acelasi', 'τὸ', 'vsakdo ', 'sebi ', 'ondan', 'θα', 'stavi', 'šestnajstimi ', 'mulai', 'turut', 'kalaupun', 'εἰς', 'mengungkapkan', 'замоно', 'dalam', 'šestnajstemu ', 'kakšnima ', 'onu', 'šestintridesetimi ', 'jossa', 'le-takega ', 'वरीपरी', 'marajte ', 'fuéramos', 'sedan', 'сам', 'pentru', 'تين', 'begge', 'ujar', 'orice', 'हुने', 'dvanajst ', 'will', 'uns', 'cîtva', 'nem', 'eram', 'حبذا', 'annak', 'tegasnya', 'sudahkah', 'houveram', 'hep', 'teidän', 'bo ', 'tenido', 'elas', 'meus', 'šestemu ', 'भन्नुभयो', 'nadnje ', 'desetimi ', 'eres', 'como', 'triintridesetim ', 'osemdeseto ', 'estarías', 'хуб ', 'étaient', 'quanti', 'меня', 'kan', 'har', 'tehát', 'jadi', 'štirinajst ', 'navzlic ', 'дегенмен', 'cei', 'deseti ', 'fanno', 'пай-пай', 'h ', 'mempunyai', 'been', 'altii', 'қайсыбір', 'inn', 'dikatakannya', 'avrai', 'merupakan', 'while', 'şi', 'аз', 'dia', 'kell', 'تينك', 'vårt', 'ich', 'najinem ', 'आत्म', 'kako ', 'bosta ', 'sollte', 'sebegitu', 'bəy', 'масқарай', 'enajstim ', 'avait', 'ειμαι', 'dvojih ', \"you'd\", 'over', 'loro', 'nikomer ', 'kven', 'apoi', 'κἂν', 'дүңк', 'nadme ', 'wollen', 'هيت', 'kunnen', 'radi ', 'به', 'ingin', 'मलाई', 'μὴ', 'som', 'पछिल्लो', 'jawabnya', 'أينما', 'obenj ', 'dig', 'ont', 'berkeinginan', 'v', 'kakršnima ', 'meski', 'том', 'dvojen ', 'panjang', 'через', 'μετά', 'dvestotimi ', 'să', 'še ', 'ἅμα', 'estejamos', 'zavoljo ', 'міне', 'أنتما', 'где', 'hočemo ', 'sebisanya', 'šestdesetem ', 'que', 'nekaterimi ', 'nos', 'acestei', 'vissza', 'inom', 'terhadapnya', 'mengibaratkannya', 'totul', 'koska', 'بهم', 'osmega ', 'sugli', 'его', 'cı', 'najinimi ', 'dass', 'zal', 'во', 'одан', 'διὰ', 'setiba', 'le-takšni ', 'ton', 'benarkah', 'muito', 'vajinima ', 'tisočere ', 'eras', 'onlardan', 'care', 'petnajsto ', 'ahol', 'үйт', 'della', 'тогда', 'ενω', 'ذواتا', 'сондай', 'mintha', 'lehetett', 'ту-ту', 'beginian', 'hotimo ', 'štirinajsto ', 'аҷабо', 'будто', 'aos', 'إذا', 'doch', 'ذلكم', 'petintridesetemu ', 'šestnajstih ', 'dovolili ', 'demikian', 'вас', 'sedemdesetega ', 'nočeš ', 'devetnajstim ', 'teistä', 'vi', 'terdahulu', 'trinajsto ', 'ὁ', 'nobenemu ', 'गर्ने', 'και', 'azok', 'nyaris', 'buna', 'أقل', 'ibu', 'бәрі', 'भन्छु', 'mivel', 'τά', 'nekem', 'kakršnemukoli ', 'қайқаң-құйқаң', 'त्सपछि', 'foram', 'petdeseti ', 'habidas', 'него', 'εκεινα', 'бізге', 'étiez', 'suo', 'niissä', 'οὐκ', 'misalkan', 'medan', 'dvaindvajset ', 'nekoliko ', 'begitukah', 'esos', 'ырқ', 'dvanajstem ', 'varit', 'trojo ', 'umumnya', 'kívül', 'weiter', 'doen', 'ea', 'для', 'nikakršnemu ', 'drugega ', 'ayez', 'smela ', 'तपाई', 'diingatkan', 'tivesse', 'ist', 'serait', 'cele', 'ὅτι', 'selain', 'štiriindvajsetim ', 'osemnajstih ', 'morda ', 'wasn', 'ҳа', 'because', 'dir', 'štiriindvajseta ', 'γὰρ', 'sulle', 'dvaindevetdesetimi ', 'sekurangnya', 'cü', 'οὔτε', 'câte', 'tanyakan', 'mindent', 'triindvajsetemu ', 'здесь', 'semula', 'cit', 'enkratnimi ', 'tema ', 'seiner', 'devetintrideset ', 'vsakršnem ', 'mengerjakan', 'бірге', 'einigem', 'terlihat', 'sedemdesetimi ', 'into', 'enajstima ', 'nah', 'ओठ', 'ţi', 'तल', 'elõtt', 'andalah', 'сенімен', 'fuiste', 'ain', 'olmadı', 'mogle ', 'साथ', 'malah', 'bersama', 'نحو', 'zo', 'kapan', 'niçin', 'noille', 'ба шарте', 'sənə', 'ert', 'perlunya', 'свою', 'ती', 'enkratnima ', 'heillä', 'мышы', 'тарс-тұрс', 'dibuatnya', 'dijelaskannya', 'kelihatan', 'ăstea', 'istem ', 'ешқайсы', 'njimi ', 'zopet ', 'bržkone ', 'şey', 'olemme', 'any', 'quello', 'sta', 'nanjo ', 'icke', 'prvima ', 'četrto ', 'tisoča ', 'jim ', 'zmoreš ', 'olla', 'ممن', 'neko ', 'vouă', 'zapored ', 'estaremos', 'pela', 'sedeminpetdeset ', 'mengetahui', 'nadvse ', 'dimaksudkannya', 'sedme ', 'sedemindvajset ', 'oricît', 'қалт-қалт', 'vore', 'nosotras', 'petindevetdeset ', 'hai', 'tolikimi ', 'želeni ', 'biz', 'jelas', 'तदनुसार', 'шіркін', 'meyakinkan', 'balik', 'estivermos', 'nog', 'furent', 'kolike ', 'dvaindevetdeseti ', 'noştri', 'तिनिहरुलाई', 'لك', 'παρά', 'vsakima ', 'era', 'sedemdesetemu ', 'prav ', 'kenen', 'hoe', 'morava ', 'nantinya', 'aquilo', 'trinajste ', 'zijn', 'petinosemdeseto ', 'tenéis', 'njegovo ', 'tai', 'fece', 'amelynek', 'dieselbe', 'memang', 'mendatangi', 'negl', 'dari', 'сарт', 'til', 'serions', 'totusi', 'petdesetem ', 'dilalui', 'қабл', 'troja ', 'арсалаң-арсалаң', 'näistä', 'тағыда', 'له', 'nikomur ', 'hočeva ', 'le-ta ', 'manches', 'najin ', 'ҳе', 'ind', 'тарта', 'c', 'takemu ', 'quanta', 'tu', 'dimintai', 'kakršnih ', 'dekat', 'staresti', 'niye', 'voi', 'γε', 'mange', 'le-takšnimi ', 'inginkah', 'эй', 'seharusnya', 'hočeta ', 'um', 'antara', 'sekitar', 'aceştia', 'waktunya', 'tendrá', 'prea', 'لكم', 'memperkirakan', 'ذلك', 'einigen', 'drugih ', 'بين', 'triintridesetih ', 'ана', 'marsičim ', 'болои ', 'tämän', 'на', 'için', 'terakhir', 'akankah', 'furono', 'jag', 'masing', 'kelima', 'citeva', 'то даме ки', 'čim ', 'štiristo ', 'estuviste', 'sí', 'trikratnemu ', 'wir', 'marsičesa ', 'tvojimi ', 'todos', 'ها', 'eut', 'sillä', 'anderen', 'τον', 'ὅστις', 'naproti ', 'bist', 'takemule ', 'diantara', 'kot ', 'ott', 'επ', 'sich', 'tambahnya', 'وإذ', 'whom', 'baik', 'daha', 'en ', 'dein', 'κατα', 'egyéb', 'sajalah', 'чего', 'med', 'fuésemos', 'lalu', 'οὐχ', 'fareste', 'eivät', 'keille', 'memulai', 'ingat-ingat', 'želim ', 'zlasti ', 'itt', 'под', 'zonder', 'ἐπεὶ', 'छन्', 'nekoga ', 'when', 'كلا', 'onsuzda', 'kinilah', 'moj ', 'bulan', 'aveva', 'telah', 'आफ्नो', 'smel ', 'vsemu ', 'étant', 'nek ', 'this', 'vse ', 'περὶ', 'vajinem ', 'stavate', 'ins', 'भन्ने', 'ғұрлым', 'njegova ', 'meillä', 'ihm', 'le-takšna ', 'nanti', 'много', 'teringat', 'makin', 'olet', 'morati ', 'stoterim ', 'lîngă', 'stesti', 'menyangkut', 'tvojo ', 'dvojo ', 'najini ', 'deim', 'dos', 'devetdeseta ', 'estiver', 'solchen', 'мен', 'k ', 'take ', 'за', 'temale ', 'प्रति', 'sedemindvajseto ', 'ӯббо', 'manchem', 'estáis', 'hers', 'περί', 'kakšno ', 'njuni ', 'menginginkan', 'cui', 'uten', 'ой', 'nase ', 'mojega ', 'želela ', 'sedemnajst ', 'гар-чи', 'takšnih ', 'қаралы', 'inapoi', 'enaindvajsetem ', 'sebegini', 'mea', 'tridesetimi ', 'kakršnemkoli ', 'надо', 'bersiap', 'राम्रो', 'біздерден', 'otro', 'сар карда', 'vilkas', 'depois', 'hendaklah', 'бізден', 'бинобар', 'rupanya', 'sta ', 'sedemdeseti ', 'himself', 'onega ', 'semampunya', 'dintr-', 'अर्को', 'hade', 'tvojim ', 'nje ', 'houvéssemos', 'ne ', 'enaintrideset ', 'наконец', 'serais', 'akulah', 'ором', 'эти', 'αὐτὸς', 'nečemu ', 'μα', 'enaindvajseti ', 'τῆς', 'ekkor', 'hemos', 'بك', 'ampak ', 'över', 'deine', 'τότε', 'onimi ', 'ἐμὸς', 'εἰ', 'yəni', 'meistä', 'οὐχὶ', 'vaših ', 'عليك', 'bodite ', 'mereu', 'tersebut', 'demi', 'való', 'meyakini', 'enkratne ', 'nekakšen ', 'abban', 'avaient', 'ugyanis', 'čemer ', 'алақай', 'jetzt', 'čigava ', 'upp', 'memintakan', 'тарс', 'izza ', 'også', 'bahwa', 'astea', 'केही', 'cumva', 'weren', 'moremo ', 'ли', 'estará', 'harada', 'ни', 'trikratni ', 'smem ', 'memisalkan', 'enaindvajsete ', 'فيه', 'аммо', 'यसो', 'drugima ', 'uneia', 'čigav ', 'berkali-kali', 'والذين', 'apa', 'estivessem', 'sekalian', 'tendremos', 'našim ', \"should've\", 'then', 'ә', 'vsema ', 'إذما', 'magát', 'seine', 'noch', 'si ', 'dvestota ', 'has', 'ibarat', 'tem ', 'في', 'seolah', 'despre', 'ala', 'onadva ', 'enkratnim ', 'nismo ', 'tolikšnemu ', 'ibaratkan', 'out', 'farete', 'devetdesetih ', 'under', 'sedemindvajseta ', 'avuto', 'ἀπό', 'kimi', 'سوف', 'deseterimi ', 'या', 'tej ', 'peterima ', 'sesudahnya', 'tegas', 'mod', 'keiden', 'sine', 'ὑμόσ', 'jotka', 'nella', 'dvojemu ', 'tretjimi ', 'nagyon', 'temle ', 'καθ', 'anche', 'ihrem', 'hingga', 'svojimi ', 'blev', 'berapalah', 'kann', 'name ', 'azon', 'asa', 'štirinajsti ', 'felé', 'suatu', 'desetega ', 'nélkül', 'stoterimi ', 'dette', 'عل', 'ذا', 'τοι', 'ditandaskan', 'dimisalkan', 'le-take ', 'semua', 'katerekoli ', 'ayants', 'tendréis', 'εἰμὶ', 'сияқты', 'olehnya', 'nekako ', 'mü', 'terkira', 'pod ', 'tenías', 'nämä', 'थियो', 'quelle', 'štirinajstim ', 'habéis', 'onem ', 'tretjemu ', 'vere', 'ура', 'nekakšnim ', 'мына', 'सोही', 'سوى', 'bodo ', 'szinte', 'dove', 'akhir', 'njena ', 'været', 'habían', 'jauh', 'ezen', 'intr', 'devetstotimi ', 'når', 'sebagai', 'аз рӯйи ', 'olduğu', 'memastikan', 'kakršni ', 'derselben', 'morala ', 'οὗτοσ', 'जाहिर', 'saling', 'sendirinya', 'aviez', 'selamanya', 'marajva ', 'facendo', 'арқылы', 'vajino ', 'tuvieron', 'meidän', 'triindvajseto ', 'кейін', 'jeg', 'с', 'dulu', 'балки', 'ισωσ', 'ἵνα', 'sig', 'माथि', 'eden ', 'le-te ', 'njo ', 'marsikaterega ', 'einiger', 'prvimi ', 'deseterih ', 'can', 'multa', 'ҷуз', 'as', 'lanjutnya', 'inni', 'berakhir', 'vsakršnih ', 'τι', 'δαὶς', 'менімен', 'keluar', 'tristotih ', 'dvajsetih ', 'لوما', 'noi', 'acesta', 'ذينك', 'fût', 'kakšni ', 'meille', 'ἐπὶ', 'izven ', 'aquelas', 'yakni', 'nostri', 'dvema ', 'vajine ', 'jangan', 'того', 'dvaindvajsetih ', 'anders', 'ta ', 'marveč ', 'hasn', 'fara', 'баъд', 'stessero', 'ponj ', 'fossem', 'бы', 'mojo ', 'povrhu ', 'terjadi', 'diketahuinya', 'өзім', 'četrte ', 'želel ', 'avesse', 'oriunde', 'egyes', 'hotele ', 'أم', 'jenen', 'чуть', 'बिशेष', 'तर', 'уж', 'kakšnim ', 'sepertinya', 'hubieseis', 'आए', 'hänestä', 'dijawab', 'up', 'mais', 'stette', 'other', 'ono ', 'аз ', 'želiva ', 'atare', 'våra', 'aurais', 'bersiap-siap', 'deşi', 'å', 'marate ', 'berlalu', 'tuosta', 'estuvimos', 'einiges', 'sugl', 'sebelumnya', 'vajinih ', 'minta', 'estas', 'اللائي', 'bax', 'sen', 'οὖν', 'sean', 'tuturnya', 'waduh', 'бірақ', 'triinšestdesetim ', 'edir', 'olan', 'dvakratnih ', 'tienes', 'этого', 'өй', 'ماذا', 'sedeminpetdesetih ', 'जस्तै', 'štirinajstem ', 'qui', 'tadinya', 'petdesetemu ', 'fuisteis', 'गर्छ', 'ҳарчанд', 'تلكم', 'jede', 'tinggi', 'enn', 'танҳо', 'petnajstih ', 'τῷ', 'un', 'kolikšni ', 'αλλα', 'čigavim ', 'usai', 'ce', 'рӯacaba', 'fim', 'teniendo', 'blir', 'josta', 'qırx', 'zi', 'бо нияти он ки', 'čemerkoli ', 'كأنما', 'nuestros', 'trideseta ', 'bila ', 'euren', 'notre', 'trikratna ', 'számára', 'drug ', 'lagi', 'mustn', 'құрау-құрау', 'same', 'vosotros', 'deseterim ', 'jika', 'αὐτόσ', 'cat', 'stotega ', 'भए', 'houveremos', 'per', 'enakega ', 'nekatera ', 'supaya', 'τὸν', 'vami ', 'δαί', 'más', 'welche', 'hvilke', 'sebab', 'mojim ', 'erre', 'takšen ', 'nista ', 'एकदम', 'morale ', 'как', 'то вақте ки', 'ildə', 'vendarle ', 'rad ', 'habrías', 'myself', 'won', 'of', 'yangad', 'dvaindevetdeseta ', 'berada', 'olisin', 'berikut', 'أن', 'राखे', 'lamanya', 'dvestoti ', 'hin', 'estuvierais', 'fora', 'menjawab', 'куда', 'besar', 'देखेको', 'eussent', 'enim ', 'arra', 'drugačnim ', 'šestnajstima ', 'sinussa', 'бойы', 'non', 'terjadilah', 'katerima ', 'atunci', 'dini', 'لهن', 'čezenj ', 'hotel ', 'seingat', 'كذلك', 'पक्का', 'masing-masing', 'trikratno ', 'semata-mata', 'lhe', 'legyen', 'ene ', 'vaši ', 'sinun', 'mulanya', 'औं', 'devete ', 'petinpetdeset ', 'četrti ', 'борт', 'осындай', 'noita', 'asupra', 'ter ', 'dilihat', 'nam ', 'hvad', 'enima ', 'petim ', 'diketahui', 'fra', 'menunjuki', 'nikogar ', 'svojega ', 'मा', 'ريث', 'απο', 'сондықтан', 'τοιοῦτος', 'wil', 'njunega ', 'esteve', 'hatten', 'patra', 'att', 'bunun', 'farò', 'avendo', 'po ', 'čigave ', 'kadar ', 'तीन', 'eine', 'iemand', 'aqueles', 'nuo', 'nekega ', 'devetemu ', 'najinih ', 'štirje ', 'ἀπ', 'агар ', 'уау', 'sedemstotih ', 'μετὰ', 'kemungkinannya', 'ҳам', 'kakega ', 'dvaindvajsetimi ', 'so ', 'dela', 'mora ', 'nokre', 'voastre', 'нас', 'kakor ', 'бұрын', 'habréis', 'habiendo', 'are', 'τοὺς', 'sampaikan', 'sitta', 'dvoji ', 'jobban', 'σύν', 'seinen', 'tocmai', 'tuona', 'havde', 'heille', 'njihovima ', 'hänelle', 'étantes', 'كأي', 'antes', 'heidän', 'tiga', 'petere ', 'till', 'unter', 'nós', 'hočete ', 'och', 'dată', 'fuimos', 'fueras', 'был', 'сыңқ', 'štirim ', 'hennar', 'ned', 'kom ', 'eles', 'ăsta', 'te ', 'बाहेक', 'avuta', 'nekateri ', 'man', 'dovoliva ', 'tendrán', 'boš ', 'пеш', 'ذلكن', 'inkje', 'šeststotih ', \"you're\", 'poleg ', 'أولئك', 'çünkü', 'tuturor', 'koliko ', 'facemmo', 'bagaikan', 'oseminštiridesetimi ', 'dvojnega ', 'आफू', 'deja', 'vsakem ', 'tako ', 'bahwasanya', 'okoli ', 'vilken', 'drugo ', 'iki', 'petindvajsetemu ', 'not', 'am', 'joiksi', 'αυτων', 'vai', 'еш', 'würden', 'она', 'لكنما', 'كيفما', \"don't\", 'devetdesete ', 'kun', 'э', 'katero ', 'štiridesetemu ', 'enaindvajsetemu ', 'benar', 'ikut', 'resda ', 'setengah', 'suntem', 'le-tistemu ', 'بكم', 'teníamos', 'alla', 'арнайы', 'कहिलेकाहीं', 'very', 'el', 'šele ', 'kateremukoli ', 'vanj ', 'olmaz', 'faremmo', 'tolikšnima ', 'tuya', 'dapat', 'nekakega ', 'kurang', 'यस', 'serons', 'takale ', 'maral ', 'na ', 'heitä', 'diri', 'оре ', 'det', 'česarkoli ', 'ҷо', 'oss', 'essa', 'zice', 'عليه', 'prvim ', 'οι', 'ceilalti', 'mikor', 'peterih ', 'doqsan', 'kalau', 'štirinajstimi ', 'kakršnimkoli ', 'diye', 'sokat', 'kolikšnemu ', 'तापनी', 'mengucapkannya', 'petnajstimi ', 'kenelle', 'чем', 'tisočero ', 'didatangkan', 'naar', 'ebbe', 'želeno ', 'osemnajstemu ', 'hendes', 'dvakratne ', 'aurait', 'niste', 'sedemsto ', 'ucapnya', 'tak ', 'лекин ва ҳол он ки', 'incit', 'petinsedemdeset ', 'does', 'minusta', 'ҳар қадар ки', 'сіздерден', 'الذي', 'harus', 'petdesete ', 'qədər', 'citi', 'bin', 'katanya', 'tristotemu ', 'fussiez', 'osmim ', 'siete', 'elle', 'le-onega ', 'prednje ', 'hjå', 'enako ', 'यद्यपि', 'қап', 'बरु', 'stoter ', 'tot', 'le-temi ', 'ἐγὼ', 'ты', 'уа', 'अरु', 'estaba', 'são', 'min', 'punya', 'सही', 'lama', 'сіз', 'faresti', 'atat', 'peta ', 'كي', 'sejumlah', 'åt', 'fu', 'svojim ', 'padahal', 'bova ', 'petintrideseta ', 'ἂν', 'új', 'datang', 'रहेको', 'गयौ', 'be', 'lui', 'آه', 'once', 'trojna ', 'vreun', 'qué', 'izmed ', 'qu', 'noina', 'le-onem ', 'vajinim ', 'गर्न', 'ليستا', 'haya', 'μέν', 'аз рӯи', 'teille', 'zase ', 'mikä', 'yaitu', 'tovább', 'bawah', 'berkata', 'sampai-sampai', 'minkä', 'hari', 'ihr', 'om', 'यो', 'drugačno ', 'varte', 'šestimi ', 'shouldn', 'हुन्छ', 'pada', 'διά', \"wouldn't\", 'жуық', 'eûmes', 'selama-lamanya', 'dem', 'ob', 'und', 'lenne', 'petstotih ', 'εκεινων', 'kalian', 'masih', 'какой', 'jedes', 'begitupun', 'otras', 'сорап', 'petinštiridesete ', 'τήν', 'uno', 'कुनै', 'mellom', 'hayan', 'fuerais', 'berarti', 'kenet', 'jó', 'habría', 'njenimi ', 'akhiri', 'yox', 'өзіне', 'hij', 'اللاتي', 'petinosemdesete ', 'əlbəttə', 'можно', 'deseteri ', 'drugem ', 'пырс', 'पाँच', 'dörd', 'berjumlah', 'devetdesetemu ', 'acei', 'fordi', 'әйткенмен', 'îmi', 'dvakratnimi ', 'ista ', 'eit', 'osemdeseta ', 'dann', 'niyə', 'गर्नुपर्छ', 'mukaan', 'acel', 'азбаски', 'بهما', 'bunların', 'atau', 'mampu', 'hoss', 'diperlihatkan', 'noče ', 'ves ', 'drugačen ', 'esas', 'alatt', 'hur', 'eg', 'vašem ', 'sedemnajstima ', 'то кӣ', 'temuintemu ', 'najbrž ', 'pertama', 'nikakršnima ', 'zate ', 'tale ', 'онда', 'tebe ', 'vendar ', 'sampai', 'keitä', 'των', 'seas', 'arról', 'οὗτος', 'tendré', 'हुन', 'stotere ', 'κι', 'लागि', 'needn', 'our', 'él', 'petnajstemu ', 'estemos', 'le-onima ', 'korso', 'setidaknya', 'tahun', 'ours', 'beş', 'komaj ', 'teringat-ingat', 'hotiva ', 'din', 'merekalah', 'habré', 'إليكن', 'sedma ', 'oradan', 'əslində', 'хуш', 'meine', 'әрбір', 'özü', 'vsakršnemu ', 'devetintridesetimi ', 'vašo ', 'blizu ', 'están', 'ved', 'sedemnajsti ', 'nə', 'selv', 'soalnya', 'štirideseta ', 'dvakratnemu ', 'ein', 'när', 'айтпақшы', 'unul', 'es', 'petindvajsetima ', 'ait', 'بماذا', 'tivessem', 'то даме ки ', 'toh', 'all', 'bakalan', 'hoče ', 'sentidos', 'vous', 'semaunya', 'trinajstim ', 'hotite ', 'fue', 'näihin', 'fosse', 'digunakan', 'мой', 'сіздердің', 'tadi', 'vase ', 'már', 'tiste ', 'unserem', 'cât', 'le-takšnim ', 'utan', 'nell', 'nekaterem ', 'adica', 'olisimme', 'moreva ', 'tidaklah', 'tuvierais', 'anderr', 'tristota ', 'tänä', 'बाहिर', 'siden', 'आफ्नै', 'njegovega ', 'nerad ', 'emilyen', 'dvakratnima ', 'enaindvajseto ', 'mie', 'nobenim ', 'berlebihan', 'γάρ', 'pa ', 'buat', 'ну', 'nerede', 'unseren', 'tuon', 'este', 'потому', 'petinštirideset ', 'cînd', 'petstotimi ', 'poikki', 'mij', 'ut', 'tened', 'houverei', 'acea', 'dimaksud', 'nokon', 'sesuatu', 'smele ', 'diperbuat', 'devetnajstimi ', 'zmoreva ', 'كلتا', \"that'll\", 'səksən', 'बीचमा', 'dallo', 'menunjukkan', 'doesn', 'serez', 'mutta', 'δαὶ', 'vsaj ', 'fel', 'berkenaan', 'tabo ', 'dobesedno ', 'tenho', 'ya', 'tuviesen', 'kakršnakoli ', 'petero ', 'avevate', 'triintrideseta ', 'онымен', 'ill', 'le-toliko ', 'никогда', 'šestintrideset ', 'пай', 'nekakšnimi ', 'zmoremo ', 'вот', 'أنت', 'ее', 'yli', 'mən', 'bermula', 'hubierais', 'welches', 'kakšnega ', 'berlainan', 'triintridesetimi ', 'bodiva ', 'пфша', 'dvoja ', 'vsakršno ', 'belki', 'isn', 'dvajsetimi ', 'jikalau', 'dirinya', 'estava', 'vor', 'haqqında', 'petinštiridesetim ', 'dvojnim ', 'فإن', 'foste', 'cineva', 'na', 'štiridesetega ', 'उनले', 'todo', 'why', 'यसपछि', 'preko ', 'voltak', 'vil', 'não', 'uma', 'morejo ', 'hoteti ', 'somme', 'col', 'dalle', 'sentid', 'nuestro', 'bodi ', 'सट्टा', 'لن', 'enkratnemu ', 'toata', 'а', 'se ', 'مه', 'it', 'houvemos', 'mio', 'eni ', 'vnovič ', 'бай-бай', 'tenían', 'tolikih ', 'vas ', 'želi ', 'några', 'ud', 'terlebih', 'niiltä', 'troji ', 'dək', 'predenj ', 'nobenem ', 'गरौं', 'petnajstima ', 'hubieras', 'أما', 'dvajseti ', 'manakala', 'stessi', 'ob ', 'mano ', 'салым', 'petnajst ', 'छैन', 'ditujukan', 'muy', 'fata', 'αυτοσ', 'soient', 'mitkä', 'petdeset ', 'carora', 'katakan', 'chiar', 'إي', 'štiriindvajseti ', 'étés', 'menyatakan', 'osme ', 'كما', 'keiksi', 'أوه', 'petintrideset ', 'before', 'doing', 'ذو', 'tuolta', 'šestdesetemu ', 'estar', 'štirimi ', 'serei', 'بها', 'sedang', 'bertanya-tanya', 'was', 'ба тразе ки ', 'marsičemu ', 'devetdeseto ', 'johon', 'both', 'treh ', 'doi', 'रहेका', 'ἐξ', 'kellett', 'jadilah', 'welcher', 'osemdesetega ', 'közül', 'больше', 'біздердің', 'keinen', 'drugim ', 'multă', 'tínhamos', 'štiriindvajsetem ', 'hajam', 'vpričo ', 'acele', 'vajinimi ', 'fossimo', 'ἣ', 'petinštiridesetem ', 'enajstem ', 'оё', 'tristotega ', 'more', 'her', 'менде', 'seolah-olah', 'गर्नु', 'kakšen ', 'vate ', 'τοτε', 'ποιοι', 'tuoi', 'чунон ки', 'αν', 'spate', 'र', 'deyil', 'tăi', 'stetti', 'кә', 'son', 'mungkinkah', 'tuviese', 'अगाडी', 'által', 'lei', 'trije ', 'deira', 'morali ', 'ti', 'sulla', 'faceva', 'كأين', 'أين', 'smeta ', 'dintre', 'फेरी', 'njem ', 'rade ', 'sebaliknya', 'هي', 'keistä', 'إنه', 'begitu', 'tentunya', 'sa-ti', 'petinosemdesetega ', 'әншейін', 'je ', 'noissa', 'भित्र', 'μή', 'لم', 'teve', 'dvainšestdeset ', 'mei', 'fuese', 'ourselves', 'lett', 'ليست', 'sitt', 'elég', 'mele', 'aki', 'эх', 'всех', 'кәне', 'sidan', 'auriez', 'votre', 'sarebbe', 'aient', 'før', 'kar ', 'avrete', 'sintiendo', 'oziroma ', 'altijd', 'petstotim ', 'minussa', 'भन्', 'štirinajstega ', 'nobena ', 'مما', 'through', 'fusses', 'bom ', 'τοιοῦτοσ', 'heb', 'deles', 'enajst ', 'bəzən', 'dagli', 'ebbero', 'tendrías', 'efter', 'mendapatkan', 'svoje ', 'sedangkan', 'нет', 'želele ', 'zij', 'allt', 'sejam', 'jener', 'tambah', 'hotela ', 'teihin', 'оларға', 'к', 'σὸς', 'бо', 'apabila', 'tuyo', 'azt', 'hər', 'čemur ', 'tele ', 'kakem ', 'mitt', 'etter', 'berbagai', 'sedemindvajsetih ', 'onedve ', 'esto', 'avuti', \"wasn't\", 'minä', 'onih ', 'verjetno ', 'шейін', 'miksi', 'tvojima ', 'ze', 'com', 'demikianlah', 'ditanya', 'eurent', 'vrhu ', 'la', 'қаңғыр-күңгір', 'mereka', 'لهم', 'veya', 'denne', 'anume', 'किन', 'nun', 'dijelaskan', 'häneltä', 'yetmiş', 'مهما', 'näissä', 'osemdeseti ', 'नत्र', 'altfel', 'toliko ', 'tenha', 'fecero', 'facevano', 'por', 'fi', 'паси', 'nekakih ', 'elõ', 'nincs', 'sebanyak', 'जसले', 'لدى', 'että', 'morebiti ', 'sådana', 'trojemu ', 'takima ', 'emme', 'het', 'dipergunakan', 'εισαι', 'étée', 'kez', 'după', 'həmişə', 'najinima ', 'neradi ', 'skozenj ', 'wo', 'кейбіреу', 'katakanlah', 'उदाहरण', 'drugačne ', 'petindvajsetega ', 'sekiranya', 'anda', 'hubiéramos', 'il', 'nekem ', 'kajne ', 'noihin', 'dovolite ', 'šestintridesetim ', 'petinosemdeseti ', 'чун-ки', 'أولاء', 'umum', 'uneori', 'sareste', 's ', 'sit', 'sera', 'štiriindvajsetega ', 'štirinajstima ', \"haven't\", 'le-tak ', 'moje ', 'oseminštiridesetih ', 'până', 'dupa', 'tuvisteis', 'banyak', 'sei', 'nostro', 'उप', 'может', 'sebagaimana', \"shouldn't\", 'tuas', 'heiltä', 'eusse', 'ona', 'šestnajst ', 'obeh ', 'tisočih ', 'sedem ', 'menaiki', 'doqquz', 'sedemdesete ', 'тавба', 'treilea', 'сона', 'ad', 'osemnajstem ', 'αἱ', 'dan', 'ero', 'jumlahnya', 'sama-sama', 'desetemu ', 'бойымен', 'šesto ', 'ἀλλά', 'petih ', 'от', 'diperlukannya', 'pač ', 'nogle', 'ville', 'ceva', \"isn't\", 'menanyakan', 'ons', 'ha', 'эҳа', 'فيم', 'njenih ', 'tisočera ', 'hočeš ', 'إليكم', 'degli', 'dus', 'ох', 'ثمة', 'dimulainya', 'στο', 'ia', 'नयाँ', 'αυτο', 'noka', 'اللتان', 'diberikannya', 'zmogle ', 'l', 'bahkan', 'dvaindevetdesetim ', 'šeststotimi ', 'berakhirlah', 'بنا', 'kvifor', 'devetsto ', 'eus', 'šeststotim ', 'mijn', 'kolikšnih ', 'smeti ', 'mellett', 'estuviese', 'seboj ', 'petinsedemdesetimi ', 'dedi', 'puţina', 'pote ', 'над', 'naši ', 'гарчанде ки ', 'njihovem ', 'ἐγώ', 'біздермен', 'tunjuk', 'sekä', 'dykk', 'соң', 'hänen', 'ὡσ', 'neki', 'xanım', 'kakršnokoli ', 'apalagi', 'про', 'نحن', 'оҳе', 'itulah', 'nuestras', 'želite ', 'барои', 'le-tega ', 'memungkinkan', 'dies', 'enkraten ', 'hun', 'izpod ', 'إما', 'marale ', 'solchem', 'ezek', 'sənin', 'потом', 'таңқ', 'فيما', 'seraient', 'trinajstimi ', 'sarebbero', 'ena ', 'vsi ', 'något', 'šesti ', 'هلا', 'faiz', 'menanti', 'jolla', 'amelyekben', 'هن', 'أكثر', 'minden', 'bojo ', 'уҳа', 'mitä', 'tepat', 'hän', 'diibaratkannya', 'यसबाहेक', 'لهما', 'қана', 'atatea', 'ليسا', 'štiristotih ', 'olin', 'trikratnim ', 'dovolijo ', 'ingat', 'vštric ', 'estaríamos', 'seremos', 'mâine', 'njihovim ', 'मुख्य', 'devetdesetimi ', 'werd', 'teljes', 'сенен\\tонан', 'kepada', 'vagyok', 'os', 'kakršnem ', 'dvojnimi ', 'mis', 'dere', 'bundan', 'sebutlah', 'mendatangkan', 'njemu ', 'deinem', 'suas', 'mendapat', 'kvi', 'trojnega ', 'kalaulah', 'vsakršna ', 'зеро ки', 'fossi', 'našega ', 'here', 'semuanya', 'marsikateri ', 'missä', 'le-takšno ', 'houveriam', 'kunne', 'cikkek', 'mengapa', 'acelea', 'nihče ', 'temu ', 'nekake ', 'setempat', 'nasıl', 'meines', 'enggaknya', 'njima ', 'soit', 'petindvajset ', 'ibaratnya', 'želeli ', 'जे', \"she's\", 'tutur', 'geweest', 'lesz', 'при', 'terutama', 'about', 'soyons', 'de', 'tega ', 'бүгжең-бүгжең', 'fuera', 'kamulah', 'oseminštirideset ', 'facessero', 'sa-mi', 'peterem ', 'ولو', 'nočem ', 'dvojni ', 'num', 'beri', 'oricum', 'vsak ', 'above', 'asal', 'nekakšno ', 'nekakimi ', 'elə', 'ilə', 'štiri ', 'bəli', 'con', 'marsikatera ', 'slik', 'pukul', 'adanya', 'ὑπὸ', 'quella', 'abbiamo', 'aceia', 'mon', 'मात्र', 'houveríamos', 'inte', 'зеро', 'mı', 'kenenä', 'terjadinya', 'toţi', 'kebetulan', 'petindvajsete ', 'ü', 'só', 'două', 'njegovimi ', 'dipersoalkan', 'барлық', 'kakršne ', \"it's\", 'إليكما', 'öz', 'újabb', 'feci', 'buradan', 'szerint', 'estaría', 'fueron', 'dvakratnega ', 'vem', 'tegale ', 'бері', 'deiner', 'ketä', 'yoxsa', 'šestnajstega ', 'drugačnem ', 'qual', 'melakukan', 'сонымен', 'भने', 'elsõ', 'joiden', 'ж', 'aurez', 'tole ', 'you', 'सायद', 'trem ', 'desetera ', 'keinginan', 'παρὰ', 'le-takšnih ', 'tistima ', 'εἴμι', 'serán', 'acestea', 'le-temu ', 'aus', 'if', 'van', 'aceste', 'kljub ', 'ill.', 'atitia', 'dituturkan', 'tiveram', 'vi ', 'üçün', 'jól', 'фақат', 'entahlah', 'joita', 'takihle ', 'तपाईको', 'нм', 'tridesetim ', 'ешбір', 'ірк', 'tuviéramos', 'también', 'estéis', 'mig', 'avete', 'u', 'cine', 'كليهما', 'čeprav ', 'tistimi ', 'triinpetdeset ', 'dvojima ', 'serta', 'sebutnya', 'их', 'olsun', 'tenga', 'prvemu ', 'अन्यत्र', 'berakhirnya', 'stiate', 'мы', 'numai', 'ni ', 'farai', 'tenía', 'ποια', 'لستما', 'insa', 'någon', 'sesampai', 'निर्दिष्ट', 'too', 'ničimer ', 'joissa', 'le-ono ', 'vidva ', 'una', 'štiriindvajsetih ', 'trinajsta ', 'tolikšnega ', 'yüz', 'marsikom ', 'stiano', 'jene', 'zur', 'οὕτως', 'sedemdeseta ', 'cikk', 'оһо', 'nossas', 'estavam', 'majd', 'sizin', 'dal', 'habríais', 'takega ', 'mindig', 'ἐφ', 'عدا', 'әттеген-ай', 'tivéssemos', 'štirinajstemu ', 'där', 'κ', 'da ', 'ҳам ', 'meissä', 'était', 'šestdesete ', 'οὐδέ', 'perché', 'peter ', 'saresti', 'ati', 'enaindvajsetima ', 'eravate', 'siitä', 'sint', 'avais', 'ălea', 'predvsem ', 'जो', 'тоже', 'triindvajsetih ', 'bilo ', 'le-takemu ', 'عن', 'želene ', \"hadn't\", 'četrtim ', 'katera ', 'acest', 'his', 'za ', 'starai', 'troje ', 'meget', 'm', 'كل', 'nas ', 'obema ', 'peterim ', 'bila', 'euch', 'σὺν', 'nič ', 'اللتين', 'trinajstemu ', 'mau', 'sou', 'noastre', 'sekalipun', 'هنا', 'petinštiridesetima ', 'etwas', 'fost', 'тыңқ', 'én', 'αυτεσ', 'sedemstotim ', 'vsem ', 'könnte', 'ὅστισ', 'katerakoli ', 'karenanya', 'menandaskan', 'allo', 'sabo ', 'eens', 'ihrer', 'trikratnega ', 'चाहन्छु', 'kolikimi ', 'hubiste', 'tvojih ', 'istima ', 'tältä', 'ойпырмай', 'sangat', 'nikakršno ', 'cărei', 'yourself', 'यहाँ', 'ذين', 'sudahlah', 'fueran', 'niistä', 'triindvajsetimi ', 'wat', 'stoterega ', 'sedemindvajsetim ', 'jolta', 'азбаски ', 'осылай', 'petdeseta ', 'तथा', 'zmoči ', 'ditanyai', 'stotimi ', 'eue', 'poate', 'najine ', 'printr-', 'भर', 'bolehlah', 'οὕτω', 'moreš ', 'marajo ', 'je', 'faremo', 'tvoja ', 'amíg', 'they', 'estuvieseis', 'بل', 'hubiera', 'فإذا', 'petinpetdesetim ', 'está', 'le-takima ', 'only', 'مع', 'should', 'diantaranya', 'more ', 'kolikor ', 'niso ', 'maga', 'osemnajstim ', 'desetih ', 'totuşi', 'نعم', 'даме ки', 'štiriindvajsetima ', 'छौं', 'بمن', 'katerokoli ', 'mednje ', 'tetapi', 'ҳмм', 'nimic', 'mío', 'šestega ', 'другой', 'šestnajstem ', 'кейбір', 'күңк', 'these', 'njihova ', 'talán', 'onima ', 'tuossa', 'bei', 'semisalnya', 'enakih ', 'mycket', 'millä', 'gilə', 'dieses', 'लगभग', 'undeva', 'stotera ', 'қош-қош', 'ou', 'jenes', 'eurer', 'my', 'le-takim ', 'sepihak', 'själv', 'nekaterega ', 'obirisi', 'petera ', 'арбаң-арбаң', 'ja ', 'tisočeri ', 'žal ', 'eussions', 'η', 'hier', 'šestindvajsetimi ', 'fummo', 'fosti', 'ки', 'сіздермен', 'im', 'sama', 'ma', 'najinemu ', 'menanya', 'япырмай', 'dvajset ', 'sedikitnya', 'раз', 'habido', 'ему', 'denselben', 'le-ona ', 'hos', 'fus', 'τὰ', 'bodita ', 'тот', 'tiba-tiba', 'فمن', 'smejo ', 'hube', 'рӯйи', 'zmorete ', 'sedmemu ', 'dessen', 'eso', 'всю', 'alles', 'tău', 'oleh', 'svojemu ', 'biti ', 'estivera', 'utolsó', 'pas', 'faccia', 'prin', 'skoznje ', 'šestdeseta ', 'sinua', 'ӯҳӯ', 'stava', 'petinosemdesetimi ', 'तेस्रो', 'майлаш куя', 'didn', 'tristoto ', 'avrei', 'estuvieran', 'keseluruhannya', 'ponje ', 'إلى', 'hvordan', 'kemudian', 'sarò', 'то ки', 'avessi', 'svojem ', 'tes', 'ғұрлы', 'тарбаң-тарбаң', 'сіздер', 'skoraj ', 'dog', 'әлденеше', 'avremmo', 'povrh ', 'sok', 'sedemnajstem ', 'ketika', 'vid', 'προσ', 'starei', 'nossos', 'хайр', 'miltä', 'auras', 'njuna ', 'hiszen', 'yaxşı', 'dengan', 'siamo', 'trei', 'belumlah', 'οὐδὲ', 'hão', 'houverão', 'هاتان', 'غير', 'jeden', 'peteri ', 'كيف', 'primul', 'had', 'petindvajseto ', 'le-tistih ', 'moči ', 'dintr', 'omdat', 'marali ', 'sentido', 'akan', 'bukannya', 'dong', 'from', 'fie', 'were', 'жалт-жұлт', 'أيها', 'menurut', 'iz ', 'war', 'adalah', 'замон', 'nobenih ', 'पटक', 'nad ', 'रही', 'dvojnih ', 'avevo', 'både', 'hočem ', 'бе', 'επι', 'स्पष्ट', 'vajinega ', 'अब', 'enakima ', 'trinajstih ', 'pred ', 'sebaik', 'smeva ', 'sedmi ', 'dvainšestdesetimi ', 'vocês', 'بيد', 'agli', 'сайын', 'onder', 'sejak', 'stotima ', 'nanju ', 're', 'بما', 'marata ', 'njihovimi ', 'seu', 'chi', 'dipunyai', 'akhirnya', 'tiene', 'біздер', 'sudah', 'him', 'bi ', 'का', 'nekakšnih ', 'komur ', 'dvajsetemu ', 'altı', 'niiden', 'tidak', 'dvestotima ', 'menda ', 'kakršen ', 'petinštirideseto ', 'nekdo ', 'azzal', 'jangankan', 'hubimos', 'úgy', 'drugačna ', 'katerimkoli ', 'tretjo ', 'triindvajseta ', 'tenhamos', 'μἐν', 'sploh ', 'қорс', 'pome ', 'enimi ', 'njenima ', 'isto', 'itukah', 'nekaterim ', 'dich', 'derselbe', 'этом', 'takem ', 'أنى', 'vostre', 'i', 'nekatere ', 'tengas', 'hiç', 'triintridesetem ', 'marala ', 'παρα', 'ebben', 'ialah', 'itse', 'azért', 'seberapa', 'οὕτωσ', 'takšnemu ', 'тәк', 'terdiri', 'әрине', 'сізге', 'deveta ', 'le-tema ', 'facevamo', 'näillä', 'moralo ', 'nagy', 'neden', 'le-taki ', 'njenemu ', 'seríais', 'ταῖς', 'kamu', 'nou', 'dat', 'štirideset ', 'охир', 'a', 'γοῦν', 'zou', 'μετα', 'diingat', 'questi', 'tistega ', 'mot', 'आफूलाई', 'aren', 'moreta ', 'sebabnya', 'nečem ', 'तेस्कारण', 'devetstotim ', 'tolikšnih ', 'cea', 'dvestotemu ', 'trinajst ', 'kedua', 'देखेर', 'sayalah', 'dvanajste ', 'də', 'želiš ', 'unsere', 'dvojnemu ', 'onim ', 'deci', 'betul', 'दिनुभएको', 'by', 'sarai', 'selama', 'kdorkoli ', 'tutto', 'sedemnajstih ', 'nemara ', 'قد', 'иногда', 'naju ', 'mar ', 'yeddi', 'ehhez', 'istemu ', 'sekarang', 'være', 'кәнеки', 'mi ', 'devetdesetem ', 'stia', 'sedmima ', 'tristotimi ', 'ki', 'disebutkan', 'bli', 'اللتيا', 'desete ', 'svojima ', 'dvaindvajsetim ', 'harusnya', 'takšna ', 'حيثما', 'altceva', 'vsakimi ', 'walau', 'atitea', 'maar', 'nå', 'artinya', 'он', 'dvojem ', 'dieser', 'دون', 'ӯ', 'vsakršnimi ', 'hogyan', 'masihkah', 'több', 'ғана', 'atatia', 'морт', 'estiverem', 'कोही', 'pravzaprav ', 'multe', 'kaki ', 'sedemnajsto ', 'pedig', 'awalnya', 'jawab', 'toi', 'einen', 'болп', 'этой', 'hayas', 'meer', 'sekadarnya', 'tolikima ', 'bagian', 'át', 'وما', 'mely', 'uit', 'penting', 'petnajstega ', 'nji ', 'allem', 'prvi ', 'مذ', 'jos', 'njihove ', 'o', 'suyas', 'hvem', 'لكيلا', 'having', 'minun', 'hendaknya', 'desetem ', 'नि', 'volt', 'यथोचित', 'hanno', 'empat', 'τῇ', 'trojne ', 'komurkoli ', 'seriez', 'noget', 'kvar', 'ataupun', 'štiridesete ', 'ذوا', 'fossero', 'melainkan', 'facciate', 'vašemu ', 'त्सैले', 'masa', 'onlar', 'avrebbe', 'dar', 'è', 'vaan', 'trinajsti ', 'menuturkan', 'ал', 'enem ', 'lah', 'थिए', 'šestdesetimi ', 'étais', 'triindvajsetem ', 'foi', 'кошки ', 'vara', 'οἱ', 'devetintridesetim ', 'tolik ', 'petintridesetimi ', 'petemu ', 'agak', 'kitalah', 'kepadanya', 'diese', 'estado', 'obe ', 'estuvisteis', 'peto ', 'wezen', 'fără', 'biri', 'prvega ', 'kateremu ', 'без', 'δαίσ', 'petinštirideseta ', 'चार', 'mesmo', 'görə', 'trojima ', 'οσο', 'ἐπί', 'hvis', 'अर्थात', 'jona', 'temule ', 'estávamos', 'jumlah', 'diberi', 'dvestotim ', 'dovoljene ', 'tallä', 'olaraq', 'өзге', 'هذين', 'гар ', 'belə', 'sua', 'seja', 'šestim ', 'navkljub ', 'mengibaratkan', 'našem ', 'gibi', 'mogla ', 'voastră', 'بي', 'di', \"you'll\", 'सो', 'vars', 'devetdesetima ', 'هو', 'kakšnih ', 'altul', 'keiner', 'mulailah', 'на ин ки', 'deseteremu ', 'pun', 'dən', 'avec', 'osemnajstima ', 'pri ', 'drugačnemu ', 'dvanajsti ', 'volna', 'tolikšen ', 'mengenai', 'sedemnajstemu ', 'teiltä', 'újra', 'temi ', 'tristotim ', 'já', 'noben ', 'kateri ', 'бұндай', 'enega ', 'منه', 'în', 'vos', 'which', 'mirip', 'seríamos', 'tendrían', 'bu', 'қарай', 'alte', 'celor', 'takole ', 'sem', 'houveria', 'yalnız', 'tuviera', 'sewaktu', 'drugimi ', 'әлдекім', 'təəssüf', 'vsakega ', 'mengingatkan', 'әркім', 'eues', 'with', 'olit', 'tisočerima ', 'ezért', 'că', 'ternyata', 'petintrideseto ', 'selalu', 'îl', 'toate', 'moramo ', 'ἀλλὰ', 'osemdesete ', 'esteja', 'štiriindvajsete ', 'ӯим ', 'dipertanyakan', 'ori', 'trideseto ', 'τούσ', 'kajpada ', 'sedemdeseto ', 'هناك', 'anderm', 'vostra', 'им', 'heihin', 'құрау', 'nekakšnemu ', 'құр', 'олардың', 'tristotem ', 'mara ', 'stoterih ', 'triindvajset ', 'gunakan', 'demselben', 'бе он ки ', 'нахот ки', 'sən', 'sering', 'kakšna ', 'धेरै', 'ii', 'ăla', 'četrtem ', 'пеши', 'αυτη', 'жаракімалла', 'ذانك', 'than', 'petnajstim ', 'maupun', 'olitte', 'le-takšnemu ', 'doar', 'vagyis', 'apakah', 'aslında', 'ezzel', 'valamint', 'saya', 'korleis', 'dituturkannya', 'onkraj ', 'tendríamos', 'tenidos', 'drugačnima ', 'semacam', 'kenessä', 'karkoli ', 'bagi', 'osemdesetima ', 'إليك', 'हुन्', 'neka ', 'su', 'njegovemu ', 'stotero ', 'weg', 'ὅς', 'всего', 'sa', 'le-takih ', 'канӣ', 'dovolimo ', 'tém', 'هاك', 'sono', 'hennes', 'suya', 'dai', 'gewesen', 'did', 'tisočem ', 'nichts', 'vanju ', 'ta', 'kakih ', 'kesampaian', 'dvainšestdesetih ', 'لئن', 'στην', 'την', 'njegovima ', 'dieselben', 'ke', 'saját', 'tremi ', 'कतै', 'nagyobb', 'em', 'sebuah', 'لكن', 'diinginkan', 'štiridesetim ', 'من', 'vår', 'šestnajstim ', 'va', 'termasuk', 'stotih ', 'zanju ', 'that', 'митың-митың', 'fusse', 'все', 'сол', 'njunem ', 'teillä', 'petinštiridesetih ', 'ὡς', 'өзіме', 'sedeminpetdesetimi ', 'das', 'en', 'wah', 'nobenima ', 'petinosemdeset ', 'rá', 'αυτοι', 'prvem ', 'citiva', 'vuestro', 'seg', 'marava ', 'было', 'kakršnega ', 'unora', 'наход ки', 'dei', 'между', 'tässä', 'olette', 'njenega ', 'dovolim ', 'sedmem ', 'wordt', 'ţieи', 'kakršnekoli ', 'ilyenkor', 'ba', 'facevo', 'ҳамоно', 'trojnem ', 'tuolle', 'para', 'ellen', 'facesse', 'štiridesetem ', 'tridesetih ', 'všeč ', 'keduanya', 'le-tistem ', 'бо вуҷуди он ки', 'čemurkoli ', 'tine', 'iyirmi', 'precej ', 'kolikim ', 'yours', 'persze', 'мыңқ', 'šestima ', 'devetnajstima ', 'fôramos', 'aceşti', 'triindvajsetega ', 'जबकि', 'देखि', 'साथै', 'haja', 'tegen', 'habías', 'devetnajsta ', 'katerimakoli ', 'هذه', 'staranno', 'dimulailah', 'abia', 'पक्कै', 'ihnen', 'ahhoz', 'ἧς', 'seketika', 'temos', 'komer ', 'üç', 'ҳу', 'hubo', 'õk', 'petindvajseti ', 'ἑαυτοῦ', 'δὲ', 'qarşı', 'lebih', 'dvajsete ', 'šestdesetim ', 'we', 'منها', 'ο', 'kakimi ', 'joihin', 'njegove ', 'ليت', 'câtva', 'cel', 'hubiesen', 'tra', 'vsemi ', 'kakima ', 'können', 'hver', 'unseres', 'dovolilo ', 'mu ', 'nosotros', 'tenham', 'selbst', 'stavamo', 'nobeni ', 'bir', 'avez', 'nočeta ', 'off', 'stareste', 'nostre', 'takšni ', 'pertanyakan', 'néhány', 'әні', \"δι'\", 'sedemdesetima ', 'nekatero ', 'mene ', 'zanjo ', 'enkratnih ', 'tolikšnimi ', 'sedemindvajsetega ', 'dikarenakan', 'menoj ', 'mía', 'हरेकog', 'isə', 'saremo', 'štiridesetimi ', 'kaj ', 'tuvieses', 'melalui', 'dvakratna ', 'most', 'naik', \"won't\", 'istega ', 'tuoksi', 'unuia', 'drugačnimi ', 'كلاهما', 'enaintridesetimi ', 'quale', 'abbia', 'عما', 'ului', 'berapakah', 'marsikaj ', 'هنالك', 'барои он ки', 'då', 'perlukah', 'damit', 'katerihkoli ', 'doilea', 'proti ', 'wollte', 'və', 'trideseti ', 'oni ', 'hvorfor', 'tempat', 'uw', 'okrog ', 'le-tisto ', 'met', 'kdor ', 'mult', 'pula', 'diungkapkan', 'म', 'enak ', 'odkar ', 'mich', 'ikkje', 'az', 'in', 'yoxdur', 'mimo ', 'ante', 'nossa', 'morajo ', 'त्यो', 'لسنا', 'δή', 'ғайри', 'enaintridesetim ', 'staremo', 'ыржың-тыржың', 'sinulla', 'katerim ', 'osemnajsto ', 'olimme', 'jo', 'hotelo ', 'avevi', 'belakangan', 'o ', 'lhes', 'tistim ', 'менің', 'otuz', 'hasta', 'naokoli ', 'आदि', 'hoti ', 'aţi', 'koga ', 'nelle', 'lewat', 'n', 'ăştia', 'inginkan', 'petinpetdesetih ', 'τῆσ', 'rasanya', 'и', 'لنا', 'petdesetih ', 'verte', 'saniyə', 'stesse', 'vostri', 'ham', 'әлдеқалай', 'ikke', 'vsakršnima ', 'terasa', 'sedemdesetih ', 'morete ', 'desi', 'amatlah', 'indi', 'sebelum', 'тебя', 'निम्न', 'mancher', 'ison', 'toen', 'astfel', 'не', 'беу', 'өзі', 'vostro', 'further', 'takimale ', 'ποιων', 'contra', 'ele', 'donde', 'nekakšnima ', 'joilla', 'est', 'cît', 'гүрс', 'petinosemdesetemu ', 'tolikim ', 'enkratno ', 'cukup', 'ander', 'deg', 'ὅ', 'miért', 'tvoj ', 'अनुसार', 'kakršnikoli ', 'sedeminšestdesetimi ', 'गैर', 'nekaki ', 'petindevetdesetih ', 'but', 'bilər', 'sva ', 'ырс', 'eno ', 'celo ', 'yakin', 'ile', 'worden', 'takšnima ', 'olisitte', 'io', 'πως', 'tendríais', 'модоме ки', 'deseter ', 'prvo ', 'күшім', 'mampukah', 'तिर', 'rada ', 'jelaslah', 'igen', 'želimo ', 'samo ', 'seringnya', 'estaríais', 'minhas', 'dialah', 'dacă', 'njihovemu ', 'devetdeset ', 'štirinajstih ', 'οὐδ', 'baje ', 'soy', 'petintridesete ', 'keresztül', 'beginilah', 'агар-чи ', 'ἤ', 'andern', 'tua', 'aurions', 'petdesetimi ', 'keihin', 'keressünk', 'avreste', 'sementara', 'marsikaterem ', 'अलग', 'tisočega ', 'бар', 'sedemindvajsetima ', 'dovolile ', 'هيا', 'seveda ', 'pentingnya', 'haruslah', 'želita ', 'mucho', 'istifadə', 'lor', 'näiltä', 'थिएन', 'poco', 'ilyen', 'starebbe', 'čeravno ', 'ней', 'haben', 'secukupnya', 'hossen', 'šest ', 'ἄρα', 'لولا', 'vsakomur ', 'vsej ', 'त्यहाँ', 'štirih ', 'ведь', 'sinuun', 'unei', 'heeft', 'meskipun', 'pic', 'also', 'μὴν', 'petinštiridesetimi ', 'вы', 'osmimi ', 'walaupun', 'devetim ', 'skoz ', 'starà', 'jolle', 'trojnemu ', 'até', 'quienes', 'nikakršne ', 'sie', 'seus', 'meinem', 'vsakomer ', 'паһ-паһ', 'sale', 'τί', 'nosso', 'tisto ', 'vaju ', 'بعد', 'bazı', 'sesaat', 'enake ', 'enaki ', 'estuviera', 'niin', 'šestdesetega ', 'об', 'पाँचौं', 'serupa', 'osma ', 'egy', 'dvojne ', 'starebbero', 'thi', 'بكما', 'тут', 'до', 'οἷς', 'olur', 'gli', 'olisit', 'zamanog', 'svoji ', 'ठीक', 'ешқашан', 'bomo ', 'tridesetega ', 'шырт', 'هم', 'vred ', 'tampaknya', 'ihn', 'zgolj ', 'менен', 'kita', 'aan', 'этот', 'oli', 'οπωσ', 'facessi', 'τὰς', 'katerimikoli ', 'كذا', 'les', 'stanno', 'kolikega ', 'सम्भव', 'saatnya', 'takšne ', 'segala', 'лекин', 'dvanajsta ', 'tisočim ', 'gegen', 'le-takšnem ', 'shan', 'nişte', 'түгел', 'noilla', 'δὴ', 'былп', 'keseluruhan', 'akik', 'durch', 'našima ', 'általában', 'båe', 'deveto ', 'әрқалай', 'avemmo', 'dovoliš ', 'vosotras', 'those', 'गरेका', 'dvojnem ', 'kecil', 'үшін', 'devetdesetega ', 'pertanyaan', 'et', 'unos', 'sekurang-kurangnya', 'sintem', 'αντι', 'onidve ', 'kakršnegakoli ', 'алатау', 'maralo ', 'än', 'zwischen', 'waren', 'heissä', 'tvojega ', 'sekaligus', 'diesem', 'marsikoga ', 'terus', 'kemungkinan', 'моһ', 'stavano', 'kein', 'legalább', 'parca', 'алдақашан'}\n"
     ]
    }
   ],
   "source": [
    "print(stop_words)"
   ]
  },
  {
   "cell_type": "code",
   "execution_count": 15,
   "metadata": {},
   "outputs": [
    {
     "name": "stdout",
     "output_type": "stream",
     "text": [
      "['This', 'is', 'a', 'sample', 'sentence', ',', 'showing', 'off', 'the', 'stop', 'words', 'filtration', '.']\n",
      "['This', 'sample', 'sentence', ',', 'showing', 'stop', 'words', 'filtration', '.']\n"
     ]
    }
   ],
   "source": [
    "word_tokens = word_tokenize(example_sent) \n",
    "  \n",
    "# filtered_sentence = [w for w in word_tokens if not w in stop_words] \n",
    "  \n",
    "filtered_sentence = list()\n",
    "  \n",
    "for w in word_tokens: \n",
    "    if w not in stop_words: \n",
    "        filtered_sentence.append(w) \n",
    "\n",
    "print(word_tokens) \n",
    "print(filtered_sentence) "
   ]
  },
  {
   "cell_type": "markdown",
   "metadata": {},
   "source": [
    "# Part Of Speech Tagging"
   ]
  },
  {
   "cell_type": "markdown",
   "metadata": {},
   "source": [
    "Abbreviation\tMeaning\n",
    "CC\tcoordinating conjunction\n",
    "CD\tcardinal digit\n",
    "DT\tdeterminer\n",
    "EX\texistential there\n",
    "FW\tforeign word\n",
    "IN\tpreposition/subordinating conjunction\n",
    "JJ\tadjective (large)\n",
    "JJR\tadjective, comparative (larger)\n",
    "JJS\tadjective, superlative (largest)\n",
    "LS\tlist market\n",
    "MD\tmodal (could, will)\n",
    "NN\tnoun, singular (cat, tree)\n",
    "NNS\tnoun plural (desks)\n",
    "NNP\tproper noun, singular (sarah)\n",
    "NNPS\tproper noun, plural (indians or americans)\n",
    "PDT\tpredeterminer (all, both, half)\n",
    "POS\tpossessive ending (parent\\ 's)\n",
    "PRP\tpersonal pronoun (hers, herself, him,himself)\n",
    "PRP$\tpossessive pronoun (her, his, mine, my, our )\n",
    "RB\tadverb (occasionally, swiftly)\n",
    "RBR\tadverb, comparative (greater)\n",
    "RBS\tadverb, superlative (biggest)\n",
    "RP\tparticle (about)\n",
    "TO\tinfinite marker (to)\n",
    "UH\tinterjection (goodbye)\n",
    "VB\tverb (ask)\n",
    "VBG\tverb gerund (judging)\n",
    "VBD\tverb past tense (pleaded)\n",
    "VBN\tverb past participle (reunified)\n",
    "VBP\tverb, present tense not 3rd person singular(wrap)\n",
    "VBZ\tverb, present tense with 3rd person singular (bases)\n",
    "WDT\twh-determiner (that, what)\n",
    "WP\twh- pronoun (who)\n",
    "WRB\twh- adverb (how)"
   ]
  },
  {
   "cell_type": "code",
   "execution_count": 16,
   "metadata": {},
   "outputs": [
    {
     "name": "stdout",
     "output_type": "stream",
     "text": [
      "After Split: ['Natural', 'Language', 'Processing', 'is', 'manipulation', 'or', 'understanding', 'text', 'or', 'speech', 'by', 'any', 'software', 'or', 'machine.', 'An', 'analogy', 'is', 'that', 'humans', 'interact,', 'understand', 'each', 'other', 'views,', 'and', 'respond', 'with', 'the', 'appropriate', 'answer.']\n",
      "----------------------------------------------------------------------------------------------------\n",
      "After Token: [('Natural', 'JJ'), ('Language', 'NNP'), ('Processing', 'NNP'), ('is', 'VBZ'), ('manipulation', 'NN'), ('or', 'CC'), ('understanding', 'JJ'), ('text', 'NN'), ('or', 'CC'), ('speech', 'NN'), ('by', 'IN'), ('any', 'DT'), ('software', 'NN'), ('or', 'CC'), ('machine.', 'VB'), ('An', 'DT'), ('analogy', 'NN'), ('is', 'VBZ'), ('that', 'IN'), ('humans', 'NNS'), ('interact,', 'JJ'), ('understand', 'VBP'), ('each', 'DT'), ('other', 'JJ'), ('views,', 'NN'), ('and', 'CC'), ('respond', 'NN'), ('with', 'IN'), ('the', 'DT'), ('appropriate', 'JJ'), ('answer.', 'NN')]\n",
      "----------------------------------------------------------------------------------------------------\n",
      "After Regex: chunk.RegexpParser with 1 stages:\n",
      "RegexpChunkParser with 1 rules:\n",
      "       <ChunkRule: '<NN.?>*<VBD.?>*<JJ.?>*<CC>?'>\n",
      "----------------------------------------------------------------------------------------------------\n",
      "After Chunking (S\n",
      "  (mychunk Natural/JJ)\n",
      "  (mychunk Language/NNP Processing/NNP)\n",
      "  is/VBZ\n",
      "  (mychunk manipulation/NN or/CC)\n",
      "  (mychunk understanding/JJ)\n",
      "  (mychunk text/NN or/CC)\n",
      "  (mychunk speech/NN)\n",
      "  by/IN\n",
      "  any/DT\n",
      "  (mychunk software/NN or/CC)\n",
      "  machine./VB\n",
      "  An/DT\n",
      "  (mychunk analogy/NN)\n",
      "  is/VBZ\n",
      "  that/IN\n",
      "  (mychunk humans/NNS interact,/JJ)\n",
      "  understand/VBP\n",
      "  each/DT\n",
      "  (mychunk other/JJ)\n",
      "  (mychunk views,/NN and/CC)\n",
      "  (mychunk respond/NN)\n",
      "  with/IN\n",
      "  the/DT\n",
      "  (mychunk appropriate/JJ)\n",
      "  (mychunk answer./NN))\n"
     ]
    }
   ],
   "source": [
    "from nltk import pos_tag\n",
    "from nltk import RegexpParser\n",
    "text =\"\"\"Natural Language Processing is manipulation or understanding text\n",
    "or speech by any software or machine. An analogy is that humans interact, \n",
    "understand each other views, and respond with the appropriate answer.\"\"\"\n",
    "text = text.split()\n",
    "print(\"After Split:\",text)\n",
    "print('-'*100)\n",
    "tokens_tag = pos_tag(text)\n",
    "print(\"After Token:\",tokens_tag)\n",
    "print('-'*100)\n",
    "patterns= \"\"\"mychunk:{<NN.?>*<VBD.?>*<JJ.?>*<CC>?}\"\"\"\n",
    "chunker = RegexpParser(patterns)\n",
    "print(\"After Regex:\",chunker)\n",
    "print('-'*100)\n",
    "output = chunker.parse(tokens_tag)\n",
    "print(\"After Chunking\",output)"
   ]
  },
  {
   "cell_type": "markdown",
   "metadata": {},
   "source": [
    "# Stemming"
   ]
  },
  {
   "cell_type": "code",
   "execution_count": 17,
   "metadata": {},
   "outputs": [
    {
     "name": "stdout",
     "output_type": "stream",
     "text": [
      "wait\n",
      "wait\n",
      "wait\n",
      "wait\n"
     ]
    }
   ],
   "source": [
    "from nltk.stem import PorterStemmer\n",
    "e_words= [\"wait\", \"waiting\", \"waited\", \"waits\"]\n",
    "ps =PorterStemmer()\n",
    "for w in e_words:\n",
    "    rootWord=ps.stem(w)\n",
    "    print(rootWord)"
   ]
  },
  {
   "cell_type": "code",
   "execution_count": 18,
   "metadata": {},
   "outputs": [
    {
     "name": "stdout",
     "output_type": "stream",
     "text": [
      "natur\n",
      "languag\n",
      "process\n",
      "is\n",
      "manipul\n",
      "or\n",
      "understand\n",
      "text\n",
      "or\n",
      "speech\n",
      "by\n",
      "ani\n",
      "softwar\n",
      "or\n",
      "machin\n",
      ".\n",
      "An\n",
      "analog\n",
      "is\n",
      "that\n",
      "human\n",
      "interact\n",
      ",\n",
      "understand\n",
      "each\n",
      "other\n",
      "view\n",
      ",\n",
      "and\n",
      "respond\n",
      "with\n",
      "the\n",
      "appropri\n",
      "answer\n",
      ".\n"
     ]
    }
   ],
   "source": [
    "from nltk.stem import PorterStemmer\n",
    "from nltk.tokenize import sent_tokenize, word_tokenize\n",
    "sentence=\"Natural Language Processing is manipulation or understanding text or speech by any software or machine. An analogy is that humans interact, understand each other views, and respond with the appropriate answer.\"\n",
    "words = word_tokenize(sentence)\n",
    "ps = PorterStemmer()\n",
    "for w in words:\n",
    "    rootWord=ps.stem(w)\n",
    "    print(rootWord)"
   ]
  },
  {
   "cell_type": "markdown",
   "metadata": {},
   "source": [
    "# Lemmatization"
   ]
  },
  {
   "cell_type": "code",
   "execution_count": 19,
   "metadata": {
    "scrolled": true
   },
   "outputs": [
    {
     "name": "stdout",
     "output_type": "stream",
     "text": [
      "Stemming for studies is studi\n",
      "Stemming for studying is studi\n",
      "Stemming for cries is cri\n",
      "Stemming for cry is cri\n"
     ]
    }
   ],
   "source": [
    "porter_stemmer  = PorterStemmer()\n",
    "text = \"studies studying cries cry\"\n",
    "tokenization = nltk.word_tokenize(text)\n",
    "for w in tokenization:\n",
    "    print(\"Stemming for {} is {}\".format(w,porter_stemmer.stem(w)))  "
   ]
  },
  {
   "cell_type": "code",
   "execution_count": 20,
   "metadata": {},
   "outputs": [
    {
     "name": "stdout",
     "output_type": "stream",
     "text": [
      "Lemma for studies is study\n",
      "Lemma for studying is studying\n",
      "Lemma for cries is cry\n",
      "Lemma for cry is cry\n"
     ]
    }
   ],
   "source": [
    "from nltk.stem import WordNetLemmatizer\n",
    "wordnet_lemmatizer = WordNetLemmatizer()\n",
    "text = \"studies studying cries cry\"\n",
    "tokenization = nltk.word_tokenize(text)\n",
    "for w in tokenization:\n",
    "    print(\"Lemma for {} is {}\".format(w, wordnet_lemmatizer.lemmatize(w)))"
   ]
  }
 ],
 "metadata": {
  "kernelspec": {
   "display_name": "Python 3",
   "language": "python",
   "name": "python3"
  },
  "language_info": {
   "codemirror_mode": {
    "name": "ipython",
    "version": 3
   },
   "file_extension": ".py",
   "mimetype": "text/x-python",
   "name": "python",
   "nbconvert_exporter": "python",
   "pygments_lexer": "ipython3",
   "version": "3.7.1"
  }
 },
 "nbformat": 4,
 "nbformat_minor": 2
}
