{
 "cells": [
  {
   "cell_type": "code",
   "execution_count": 4,
   "metadata": {},
   "outputs": [
    {
     "name": "stdout",
     "output_type": "stream",
     "text": [
      "6+5+7+3+5+7\n",
      "['6', '5+7']\n",
      "['+', '+']\n"
     ]
    }
   ],
   "source": [
    "n=input()\n",
    "num=list()\n",
    "o=list()\n",
    "op=['+','-','*','/']\n",
    "i=0\n",
    "while i<len(n):\n",
    "    if n[i] in op:\n",
    "        num.append(n[0:i])\n",
    "        o.append(n[i])\n",
    "        n=n[i+1:len(n)]\n",
    "    i+=1\n",
    "print(num)\n",
    "print(o)"
   ]
  },
  {
   "cell_type": "code",
   "execution_count": 36,
   "metadata": {},
   "outputs": [
    {
     "name": "stdout",
     "output_type": "stream",
     "text": [
      "Enter the exp7+6+5\n",
      "0\n",
      "13\n",
      "13\n",
      "13\n",
      "13\n"
     ]
    }
   ],
   "source": [
    "class calc():\n",
    "    def __init__(a):\n",
    "        c=input('Enter the exp')\n",
    "        out=0\n",
    "        for i in c:\n",
    "            if i=='+':\n",
    "                d=c.split(i)\n",
    "                out=(int(d[0])+int(d[1]))\n",
    "            print(out)\n",
    "a=calc()"
   ]
  },
  {
   "cell_type": "code",
   "execution_count": 1,
   "metadata": {},
   "outputs": [
    {
     "name": "stdout",
     "output_type": "stream",
     "text": [
      "13\n"
     ]
    }
   ],
   "source": [
    "a=7+8-2*1\n",
    "print(a)"
   ]
  },
  {
   "cell_type": "code",
   "execution_count": 10,
   "metadata": {},
   "outputs": [
    {
     "name": "stdout",
     "output_type": "stream",
     "text": [
      "8-8\n",
      "0\n"
     ]
    }
   ],
   "source": [
    "def add(a):\n",
    "    res=int(a[0])+int(a[1])\n",
    "    print(res)\n",
    "def sub(a):\n",
    "    res=int(a[0])-int(a[1])\n",
    "    print(res)\n",
    "def mul(a):\n",
    "    res=int(a[0])*int(a[1])\n",
    "    print(res)\n",
    "def div(a):\n",
    "    res=int(a[0])/int(a[1])\n",
    "    print(res)\n",
    "def floor(a):\n",
    "    res=int(a[0])//int(a[1])\n",
    "    print(res)\n",
    "\n",
    "n=input()\n",
    "if '+' in n:\n",
    "    a=n.split('+')\n",
    "    add(a)\n",
    "if '-' in n:\n",
    "    a=n.split('-')\n",
    "    sub(a)\n",
    "if '*' in n:\n",
    "    a=n.split('*')\n",
    "    mul(a)\n",
    "if '/' in n and n.count('/')==1:\n",
    "    a=n.split('/')\n",
    "    div(a)  \n",
    "if '/' in n and n.count('/')==2:\n",
    "    a=n.split('//')\n",
    "    floor(a)  "
   ]
  },
  {
   "cell_type": "code",
   "execution_count": 115,
   "metadata": {
    "scrolled": false
   },
   "outputs": [
    {
     "name": "stdout",
     "output_type": "stream",
     "text": [
      "[1 2 4 6 3 0 5 7 5]\n",
      "<class 'numpy.ndarray'>\n",
      "[[1 2 4]\n",
      " [6 3 0]\n",
      " [5 7 5]]\n"
     ]
    }
   ],
   "source": [
    "import numpy as np\n",
    "arr=np.array([1,2,4,6,3,0,5,7,5])\n",
    "print(arr)\n",
    "print(type(array))\n",
    "array.shape\n",
    "array=arr.reshape(3,3)\n",
    "print(array)"
   ]
  },
  {
   "cell_type": "code",
   "execution_count": null,
   "metadata": {},
   "outputs": [],
   "source": []
  },
  {
   "cell_type": "code",
   "execution_count": 23,
   "metadata": {},
   "outputs": [
    {
     "name": "stdout",
     "output_type": "stream",
     "text": [
      "[8812 5283 2094 7239 4042 8076 4089 4228 1165 5917 6289 1184 8718 4463\n",
      " 5294 3228 8765 4965 7932 8975]\n"
     ]
    }
   ],
   "source": [
    "import numpy as np\n",
    "a=np.random.randint(0,10000,20)\n",
    "print(a)"
   ]
  },
  {
   "cell_type": "code",
   "execution_count": 29,
   "metadata": {
    "scrolled": true
   },
   "outputs": [
    {
     "name": "stdout",
     "output_type": "stream",
     "text": [
      "[ 1  2  3  4  5  6  7  8  9 10 11 12 13 14 15 16 17 18 19]\n"
     ]
    }
   ],
   "source": [
    "import numpy as np\n",
    "a=np.arange(1,20)\n",
    "print(a)"
   ]
  },
  {
   "cell_type": "code",
   "execution_count": 53,
   "metadata": {},
   "outputs": [
    {
     "name": "stdout",
     "output_type": "stream",
     "text": [
      "[4630 1128 4488 9293 8892 1225 3371 6555 4915 9126 3484 2278 4229 1541\n",
      " 4002 4774 2178 8259 5825 8199]\n",
      "2626.840143594581\n"
     ]
    }
   ],
   "source": [
    "import numpy as np\n",
    "a=np.random.randint(0,10000,20)\n",
    "print(a)\n",
    "res=np.std(a)\n",
    "print(res)"
   ]
  },
  {
   "cell_type": "code",
   "execution_count": 66,
   "metadata": {},
   "outputs": [
    {
     "name": "stdout",
     "output_type": "stream",
     "text": [
      "[71 80 58 18 57 72 20 80 95 45 64 41 81 70 94  8 10 50 66  7]\n",
      "27.817755121504682\n",
      "27.817755121504682\n"
     ]
    }
   ],
   "source": [
    "import numpy as np\n",
    "a=np.random.randint(0,100,20)\n",
    "print(a)\n",
    "mean=np.mean(a)\n",
    "var=0\n",
    "for i in range(0,len(a)):\n",
    "    var=var+(a[i]-mean)*(a[i]-mean)\n",
    "var=var/20\n",
    "res=np.sqrt(var)\n",
    "print(res)\n",
    "res1=np.std(a)\n",
    "print(res1)\n"
   ]
  },
  {
   "cell_type": "code",
   "execution_count": 93,
   "metadata": {
    "scrolled": true
   },
   "outputs": [
    {
     "name": "stdout",
     "output_type": "stream",
     "text": [
      "[3 4 5 6 7]\n"
     ]
    }
   ],
   "source": [
    "import numpy as np\n",
    "a=np.array([1,2,3,4,5])+2\n",
    "print(a)"
   ]
  },
  {
   "cell_type": "code",
   "execution_count": 111,
   "metadata": {},
   "outputs": [
    {
     "name": "stdout",
     "output_type": "stream",
     "text": [
      "[[64 55 89 75 65]\n",
      " [81  8 12 42 86]\n",
      " [83 41 69 55 10]\n",
      " [48 50 83 91 34]]\n"
     ]
    }
   ],
   "source": [
    "import numpy as np\n",
    "a=np.random.randint(0,100,20)\n",
    "a=a.reshape(4,5)\n",
    "print(a)"
   ]
  },
  {
   "cell_type": "code",
   "execution_count": 113,
   "metadata": {},
   "outputs": [
    {
     "name": "stdout",
     "output_type": "stream",
     "text": [
      "[[ 1  2  3  4  5]\n",
      " [ 6  7  8  9 10]\n",
      " [11 12 13 14 15]\n",
      " [16 17 18 19 20]]\n"
     ]
    }
   ],
   "source": [
    "import numpy as np\n",
    "a=np.array(np.arange(1,21)).reshape(4,5)\n",
    "print(a)"
   ]
  },
  {
   "cell_type": "code",
   "execution_count": 117,
   "metadata": {},
   "outputs": [
    {
     "name": "stdout",
     "output_type": "stream",
     "text": [
      "[61 74 31 12 77 78 25 98 88  8]\n",
      "[[61 74 31 12 77]\n",
      " [78 25 98 88  8]]\n"
     ]
    }
   ],
   "source": [
    "import numpy as np\n",
    "a=np.random.randint(0,100,10)\n",
    "print(a)\n",
    "a=a.reshape(2,5)\n",
    "print(a)"
   ]
  },
  {
   "cell_type": "code",
   "execution_count": 2,
   "metadata": {},
   "outputs": [
    {
     "name": "stdout",
     "output_type": "stream",
     "text": [
      "0    1\n",
      "1    2\n",
      "2    3\n",
      "3    4\n",
      "4    5\n",
      "dtype: int64\n",
      "<class 'pandas.core.series.Series'>\n"
     ]
    }
   ],
   "source": [
    "import pandas as pd\n",
    "var=pd.Series([1,2,3,4,5])\n",
    "print(var)\n",
    "print(type(var))"
   ]
  },
  {
   "cell_type": "code",
   "execution_count": 8,
   "metadata": {},
   "outputs": [
    {
     "name": "stdout",
     "output_type": "stream",
     "text": [
      "a    1\n",
      "b    2\n",
      "c    3\n",
      "d    4\n",
      "e    5\n",
      "dtype: int64\n",
      "<class 'pandas.core.series.Series'>\n"
     ]
    }
   ],
   "source": [
    "import pandas as pd\n",
    "var=pd.Series([1,2,3,4,5],index=list('abcde'))\n",
    "print(var)\n",
    "print(type(var))"
   ]
  },
  {
   "cell_type": "code",
   "execution_count": 27,
   "metadata": {},
   "outputs": [
    {
     "name": "stdout",
     "output_type": "stream",
     "text": [
      "   a\n",
      "a  9\n",
      "b  2\n",
      "c  6\n",
      "d  4\n",
      "e  5\n",
      "<class 'pandas.core.frame.DataFrame'>\n"
     ]
    }
   ],
   "source": [
    "import pandas as pd\n",
    "var=pd.DataFrame([9,2,6,4,5],index=list('abcde'),columns=list('a'))\n",
    "print(var)\n",
    "print(type(var))"
   ]
  },
  {
   "cell_type": "code",
   "execution_count": 35,
   "metadata": {},
   "outputs": [
    {
     "name": "stdout",
     "output_type": "stream",
     "text": [
      "    q   w   e   r   t\n",
      "a   1   2   3   4   5\n",
      "s   6   7   8   9  10\n",
      "d  11  12  13  14  15\n",
      "f  16  17  18  19  20\n",
      "<class 'pandas.core.frame.DataFrame'>\n"
     ]
    }
   ],
   "source": [
    "import pandas as pd\n",
    "var=pd.DataFrame(np.arange(1,21).reshape(4,5),index=list('asdf'),columns=list('qwert'))\n",
    "print(var)\n",
    "print(type(var))"
   ]
  },
  {
   "cell_type": "code",
   "execution_count": 44,
   "metadata": {},
   "outputs": [
    {
     "name": "stdout",
     "output_type": "stream",
     "text": [
      "      q     w     e     r     t\n",
      "s   6.0   7.0   8.0   9.0  10.0\n",
      "d  11.0  12.0  13.0  14.0  15.0\n",
      "f  16.0  17.0  18.0  19.0  20.0\n"
     ]
    }
   ],
   "source": [
    "import pandas as pd\n",
    "var=pd.DataFrame(np.arange(1,21).reshape(4,5),index=list('asdf'),columns=list('qwert'))\n",
    "print((var[var>5]).dropna())"
   ]
  }
 ],
 "metadata": {
  "kernelspec": {
   "display_name": "Python 3",
   "language": "python",
   "name": "python3"
  },
  "language_info": {
   "codemirror_mode": {
    "name": "ipython",
    "version": 3
   },
   "file_extension": ".py",
   "mimetype": "text/x-python",
   "name": "python",
   "nbconvert_exporter": "python",
   "pygments_lexer": "ipython3",
   "version": "3.7.1"
  }
 },
 "nbformat": 4,
 "nbformat_minor": 2
}
