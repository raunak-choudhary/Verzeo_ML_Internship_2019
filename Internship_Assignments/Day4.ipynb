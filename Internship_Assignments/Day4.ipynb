{
 "cells": [
  {
   "cell_type": "code",
   "execution_count": 14,
   "metadata": {},
   "outputs": [
    {
     "name": "stdout",
     "output_type": "stream",
     "text": [
      "    q   w   e   r   t\n",
      "a   1   2   3   4   5\n",
      "s   6   7   8   9  10\n",
      "d  11  12  13  14  15\n",
      "f  16  17  18  19  20\n"
     ]
    },
    {
     "data": {
      "text/plain": [
       "a     1\n",
       "s     6\n",
       "d    11\n",
       "f    16\n",
       "Name: q, dtype: int32"
      ]
     },
     "execution_count": 14,
     "metadata": {},
     "output_type": "execute_result"
    }
   ],
   "source": [
    "import pandas as pd\n",
    "import numpy as np\n",
    "var=pd.DataFrame(np.arange(1,21).reshape(4,5),index=list('asdf'),columns=list('qwert'))\n",
    "print(var)\n",
    "var['q']"
   ]
  },
  {
   "cell_type": "code",
   "execution_count": 6,
   "metadata": {},
   "outputs": [
    {
     "name": "stdout",
     "output_type": "stream",
     "text": [
      "1.0\n",
      "2.528621338349906\n",
      "1.4509297520661149\n",
      "18.59765625\n",
      "6.627690865120872e-32\n",
      "0.999999999999999\n",
      "2.5286213383499048\n",
      "1.450929752066114\n",
      "18.597656249999993\n",
      "2.6510763460483487e-31\n",
      "0.9999999999999981\n",
      "2.5286213383499043\n",
      "1.4509297520661129\n",
      "18.597656249999982\n",
      "5.964921778608784e-31\n",
      "0.999999999999997\n",
      "2.5286213383499034\n",
      "1.450929752066112\n",
      "18.59765624999997\n",
      "1.0604305384193395e-30\n",
      "0.999999999999996\n",
      "2.528621338349902\n",
      "1.450929752066111\n",
      "18.597656249999964\n",
      "1.6569227162802177e-30\n"
     ]
    }
   ],
   "source": [
    "import numpy as np\n",
    "a=23\n",
    "b=28\n",
    "c=7\n",
    "d=19\n",
    "e=2\n",
    "l=[a,b,c,d,e]\n",
    "sum=0\n",
    "avg=0\n",
    "val=0\n",
    "val1=0\n",
    "nu=0\n",
    "de=0\n",
    "for i in range(0,len(l)):\n",
    "    sum+=l[i]\n",
    "    avg=sum/int(len(l))\n",
    "for i in range(0,len(l)):\n",
    "    for i in range(0,len(l)):\n",
    "        val=val+(l[i]-avg)\n",
    "        nu=val**2\n",
    "        val1=((l[i]-avg))**2\n",
    "        val1=val1**2\n",
    "        de=np.sqrt(val1)\n",
    "        res=nu/de\n",
    "        print(res)"
   ]
  },
  {
   "cell_type": "code",
   "execution_count": 1,
   "metadata": {},
   "outputs": [
    {
     "name": "stdout",
     "output_type": "stream",
     "text": [
      "[[ 1  6 11 23 30]\n",
      " [35  7 28 34 46]\n",
      " [ 3  8 23 15 51]\n",
      " [ 4  9 45 18  2]\n",
      " [ 5 10 12 21 34]]\n"
     ]
    },
    {
     "data": {
      "text/plain": [
       "array([[ 1.        , -0.25473918,  0.19881689,  0.89110628,  0.37192553],\n",
       "       [-0.25473918,  1.        ,  0.2164127 , -0.43560684, -0.29761215],\n",
       "       [ 0.19881689,  0.2164127 ,  1.        , -0.0739282 , -0.55593453],\n",
       "       [ 0.89110628, -0.43560684, -0.0739282 ,  1.        ,  0.2708075 ],\n",
       "       [ 0.37192553, -0.29761215, -0.55593453,  0.2708075 ,  1.        ]])"
      ]
     },
     "execution_count": 1,
     "metadata": {},
     "output_type": "execute_result"
    }
   ],
   "source": [
    "import numpy as np\n",
    "def cor(x,y):\n",
    "    n=x.size\n",
    "    n1=n*(x*y).sum()\n",
    "    nr=x.sum()*y.sum()\n",
    "    num=n1-nr\n",
    "    d1=n*(x**2).sum()-x.sum()**2\n",
    "    d2=n*(y**2).sum()-y.sum()**2\n",
    "    den=(d1*d2)**0.5\n",
    "    return num/den\n",
    "a=np.array([1,35,3,4,5])\n",
    "b=np.array([6,7,8,9,10])\n",
    "c=np.array([11,28,23,45,12])\n",
    "d=np.array([23,34,15,18,21])\n",
    "e=np.array([30,46,51,2,34])\n",
    "cor(a,b)\n",
    "def cmatrix(x):\n",
    "    cm=[]\n",
    "    ncol=x.shape[1]\n",
    "    for i in range(ncol):\n",
    "        m=[]\n",
    "        for j in range(ncol):\n",
    "            m.append(cor(x[:,i],x[:,j]))\n",
    "        cm.append(m)\n",
    "    return np.array(cm)\n",
    "M=np.c_[a,b,c,d,e]\n",
    "print(M)\n",
    "cmatrix(M)"
   ]
  }
 ],
 "metadata": {
  "kernelspec": {
   "display_name": "Python 3",
   "language": "python",
   "name": "python3"
  },
  "language_info": {
   "codemirror_mode": {
    "name": "ipython",
    "version": 3
   },
   "file_extension": ".py",
   "mimetype": "text/x-python",
   "name": "python",
   "nbconvert_exporter": "python",
   "pygments_lexer": "ipython3",
   "version": "3.7.1"
  }
 },
 "nbformat": 4,
 "nbformat_minor": 2
}
