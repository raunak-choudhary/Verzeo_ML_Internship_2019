{
 "cells": [
  {
   "cell_type": "code",
   "execution_count": 2,
   "metadata": {},
   "outputs": [],
   "source": [
    "import pandas as pd\n",
    "import numpy as np\n",
    "import matplotlib.pyplot as plt\n",
    "from sklearn.cluster import KMeans #lib from sklearn.cluster"
   ]
  },
  {
   "cell_type": "code",
   "execution_count": 2,
   "metadata": {},
   "outputs": [
    {
     "name": "stdout",
     "output_type": "stream",
     "text": [
      "(100, 2)\n",
      "(50, 2)\n"
     ]
    }
   ],
   "source": [
    "x = -2 * np.random.rand(100,2) # -2 is used to create one type of data set that is negative and 100 rows and 2 columns\n",
    "print(x.shape)\n",
    "x1 = 1+ 2 * np.random.rand(50,2) # 50 rows and 2 columns \n",
    "print(x1.shape)"
   ]
  },
  {
   "cell_type": "code",
   "execution_count": 3,
   "metadata": {},
   "outputs": [
    {
     "name": "stdout",
     "output_type": "stream",
     "text": [
      "[[2.6023135  2.45963306]\n",
      " [2.96989968 2.97568824]\n",
      " [2.45563745 2.02578723]\n",
      " [1.46824055 2.3668869 ]\n",
      " [1.73461563 2.56239067]\n",
      " [1.28346134 2.87617977]\n",
      " [1.83426975 1.97246334]\n",
      " [1.33062719 1.10215582]\n",
      " [2.86840774 2.42584064]\n",
      " [2.50731826 1.76096552]\n",
      " [2.93922791 1.72845149]\n",
      " [1.24139438 2.51817416]\n",
      " [1.84025593 1.09448722]\n",
      " [2.74846704 2.80694434]\n",
      " [2.94777258 1.32343228]\n",
      " [2.70921901 1.67854862]\n",
      " [1.21450525 1.35980567]\n",
      " [1.79718727 2.08900153]\n",
      " [2.5436249  1.70445133]\n",
      " [2.52974211 2.1281563 ]\n",
      " [2.74865616 2.32957042]\n",
      " [1.09151273 1.69027604]\n",
      " [1.66187517 2.28648311]\n",
      " [2.00990987 2.70598648]\n",
      " [1.81022308 2.06420935]\n",
      " [2.37216268 1.20423389]\n",
      " [1.5983714  2.05251428]\n",
      " [2.92929853 1.38698057]\n",
      " [1.81183571 2.12201639]\n",
      " [2.88369428 1.93428576]\n",
      " [2.10159397 2.72988199]\n",
      " [1.56682513 2.67739576]\n",
      " [1.37799902 1.60329725]\n",
      " [2.39807665 1.6078356 ]\n",
      " [1.58437433 1.49212145]\n",
      " [1.96108464 2.54723144]\n",
      " [1.2648532  2.06390968]\n",
      " [2.84267123 2.7855922 ]\n",
      " [2.06042146 1.76541592]\n",
      " [1.02543654 2.81661228]\n",
      " [1.9730252  2.07391691]\n",
      " [1.50677745 2.85757139]\n",
      " [2.96544357 2.67982403]\n",
      " [1.13352779 2.01168043]\n",
      " [2.39032555 2.70807973]\n",
      " [1.3197769  1.93376538]\n",
      " [1.98724777 2.59764492]\n",
      " [1.02465724 2.52060733]\n",
      " [2.72646229 1.96789258]\n",
      " [1.02284748 2.08585846]]\n"
     ]
    }
   ],
   "source": [
    "print(x1)"
   ]
  },
  {
   "cell_type": "code",
   "execution_count": 9,
   "metadata": {},
   "outputs": [
    {
     "data": {
      "text/plain": [
       "<matplotlib.collections.PathCollection at 0x7f3d38606c18>"
      ]
     },
     "execution_count": 9,
     "metadata": {},
     "output_type": "execute_result"
    },
    {
     "data": {
      "image/png": "[encoded data removed]",
      "text/plain": [
       "<Figure size 432x288 with 1 Axes>"
      ]
     },
     "metadata": {
      "needs_background": "light"
     },
     "output_type": "display_data"
    }
   ],
   "source": [
    "# print(x[50:100])\n",
    "x[50:100, :]=x1 #from 50 to 100 hs to be replace by X1 and second colon represents all columns\n",
    "# print(x)\n",
    "\n",
    "# print(len(x),len(x1))\n",
    "\n",
    "plt.scatter(x[ : ,0],x[ : ,1]) # ,0-> all rows and first column and ,1-> all rows and second column"
   ]
  },
  {
   "cell_type": "code",
   "execution_count": 11,
   "metadata": {},
   "outputs": [
    {
     "data": {
      "text/plain": [
       "KMeans(algorithm='auto', copy_x=True, init='k-means++', max_iter=300,\n",
       "    n_clusters=2, n_init=10, n_jobs=None, precompute_distances='auto',\n",
       "    random_state=None, tol=0.0001, verbose=0)"
      ]
     },
     "execution_count": 11,
     "metadata": {},
     "output_type": "execute_result"
    }
   ],
   "source": [
    "Kmean = KMeans(n_clusters=2) # no of centroid we will get=2\n",
    "Kmean.fit(x)  "
   ]
  },
  {
   "cell_type": "code",
   "execution_count": 12,
   "metadata": {},
   "outputs": [
    {
     "data": {
      "text/plain": [
       "array([[ 2.01434309,  2.1252427 ],\n",
       "       [-1.04815579, -0.88681229]])"
      ]
     },
     "execution_count": 12,
     "metadata": {},
     "output_type": "execute_result"
    }
   ],
   "source": [
    "Kmean.cluster_centers_ # give centroid of each cluster"
   ]
  },
  {
   "cell_type": "code",
   "execution_count": 4,
   "metadata": {
    "scrolled": true
   },
   "outputs": [
    {
     "name": "stdout",
     "output_type": "stream",
     "text": [
      "(100, 2)\n",
      "(50, 2)\n"
     ]
    },
    {
     "data": {
      "text/plain": [
       "<matplotlib.collections.PathCollection at 0x236909da470>"
      ]
     },
     "execution_count": 4,
     "metadata": {},
     "output_type": "execute_result"
    },
    {
     "data": {
      "image/png": "[encoded data removed]",
      "text/plain": [
       "<Figure size 432x288 with 1 Axes>"
      ]
     },
     "metadata": {
      "needs_background": "light"
     },
     "output_type": "display_data"
    }
   ],
   "source": [
    "import pandas as pd\n",
    "import numpy as np\n",
    "import matplotlib.pyplot as plt\n",
    "from sklearn.cluster import KMeans #lib from sklearn.cluster\n",
    "x = -2 * np.random.rand(100,2) # -2 is used to create one type of data set that is negative and 100 rows and 2 columns\n",
    "print(x.shape)\n",
    "x1 = 1+ 2 * np.random.rand(50,2) # 50 rows and 2 columns \n",
    "print(x1.shape)\n",
    "# print(x[50:100])\n",
    "x[50:100, :]=x1 #from 50 to 100 hs to be replace by X1 and second colon represents all columns\n",
    "# print(x)\n",
    "\n",
    "# print(len(x),len(x1))\n",
    "\n",
    "plt.scatter(x[ : ,0],x[ : ,1]) # ,0-> all rows and first column and ,1-> all rows and second column\n",
    "Kmean = KMeans(n_clusters=2) # no of centroid we will get=2\n",
    "Kmean.fit(x) \n",
    "Kmean.cluster_centers_\n",
    "plt.scatter(x[ : ,0],x[ : ,1],s=5,c='b') #s=5-> size of dot c='b'-> Blue colour\n",
    "plt.scatter(Kmean.cluster_centers_[0][0], Kmean.cluster_centers_[0][1],s=40,c='g')\n",
    "plt.scatter(Kmean.cluster_centers_[1][0],  Kmean.cluster_centers_[1][1],s=40,c='r')\n"
   ]
  },
  {
   "cell_type": "code",
   "execution_count": 14,
   "metadata": {},
   "outputs": [
    {
     "data": {
      "text/plain": [
       "array([1, 1, 1, 1, 1, 1, 1, 1, 1, 1, 1, 1, 1, 1, 1, 1, 1, 1, 1, 1, 1, 1,\n",
       "       1, 1, 1, 1, 1, 1, 1, 1, 1, 1, 1, 1, 1, 1, 1, 1, 1, 1, 1, 1, 1, 1,\n",
       "       1, 1, 1, 1, 1, 1, 0, 0, 0, 0, 0, 0, 0, 0, 0, 0, 0, 0, 0, 0, 0, 0,\n",
       "       0, 0, 0, 0, 0, 0, 0, 0, 0, 0, 0, 0, 0, 0, 0, 0, 0, 0, 0, 0, 0, 0,\n",
       "       0, 0, 0, 0, 0, 0, 0, 0, 0, 0, 0, 0], dtype=int32)"
      ]
     },
     "execution_count": 14,
     "metadata": {},
     "output_type": "execute_result"
    }
   ],
   "source": [
    "Kmean.labels_\n",
    "# len(Kmean.labels_)\n",
    "# Kmean.labels_.reshape(20,-1)"
   ]
  },
  {
   "cell_type": "code",
   "execution_count": 25,
   "metadata": {},
   "outputs": [
    {
     "name": "stdout",
     "output_type": "stream",
     "text": [
      "[1 1]\n",
      "(2,)\n",
      "[[1 1]]\n",
      "[0]\n"
     ]
    }
   ],
   "source": [
    "sample = np.array([1,1]) # Sample value for testing\n",
    "print(sample)\n",
    "print(sample.shape)\n",
    "test = sample.reshape(1,2) # == reshape(1,2) in this case\n",
    "print(test)\n",
    "print(Kmean.predict(test)) #from which value it belongs to"
   ]
  },
  {
   "cell_type": "code",
   "execution_count": 27,
   "metadata": {},
   "outputs": [
    {
     "data": {
      "text/plain": [
       "<matplotlib.collections.PathCollection at 0x7f3d382d49b0>"
      ]
     },
     "execution_count": 27,
     "metadata": {},
     "output_type": "execute_result"
    },
    {
     "data": {
      "image/png": "[encoded data removed]",
      "text/plain": [
       "<Figure size 432x288 with 1 Axes>"
      ]
     },
     "metadata": {
      "needs_background": "light"
     },
     "output_type": "display_data"
    }
   ],
   "source": [
    "plt.scatter(x[ : ,0],x[ : ,1],s=20,c='b')\n",
    "plt.scatter(Kmean.cluster_centers_[0][0], Kmean.cluster_centers_[0][1],s=20,c='g')\n",
    "plt.scatter(Kmean.cluster_centers_[1][0],  Kmean.cluster_centers_[1][1],s=20,c='r')\n",
    "# sample\n",
    "plt.scatter(sample[0],sample[1],s=30,c='k')"
   ]
  },
  {
   "cell_type": "code",
   "execution_count": null,
   "metadata": {},
   "outputs": [],
   "source": []
  }
 ],
 "metadata": {
  "kernelspec": {
   "display_name": "Python 3",
   "language": "python",
   "name": "python3"
  },
  "language_info": {
   "codemirror_mode": {
    "name": "ipython",
    "version": 3
   },
   "file_extension": ".py",
   "mimetype": "text/x-python",
   "name": "python",
   "nbconvert_exporter": "python",
   "pygments_lexer": "ipython3",
   "version": "3.7.1"
  }
 },
 "nbformat": 4,
 "nbformat_minor": 2
}
